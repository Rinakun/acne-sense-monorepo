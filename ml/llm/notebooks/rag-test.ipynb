{
 "cells": [
  {
   "cell_type": "code",
   "execution_count": 1,
   "id": "deb53424-5e8a-4de2-895b-aa88a13b0bed",
   "metadata": {},
   "outputs": [],
   "source": [
    "import pandas as pd\n",
    "import requests\n",
    "import sys\n",
    "from pathlib import Path\n",
    "from typing import Dict, List, Any, Optional, Union\n",
    "sys.path.append(str(Path.cwd().parent))\n",
    "\n",
    "from scripts.minsearch import Index"
   ]
  },
  {
   "cell_type": "markdown",
   "id": "a855b1fb",
   "metadata": {},
   "source": [
    "# Ingestion"
   ]
  },
  {
   "cell_type": "code",
   "execution_count": 3,
   "id": "0116918e",
   "metadata": {},
   "outputs": [],
   "source": [
    "acne_types_df = pd.read_csv('../data/knowledge-base/acne_types.csv', sep=';')\n",
    "faqs_df = pd.read_csv('../data/knowledge-base/faqs.csv', sep=';')"
   ]
  },
  {
   "cell_type": "code",
   "execution_count": 4,
   "id": "217ed9d5",
   "metadata": {},
   "outputs": [],
   "source": [
    "acne_documents = acne_types_df.to_dict(orient='records')\n",
    "faq_documents = faqs_df.to_dict(orient='records')"
   ]
  },
  {
   "cell_type": "code",
   "execution_count": 5,
   "id": "87e05ad0",
   "metadata": {},
   "outputs": [],
   "source": [
    "for doc in acne_documents:\n",
    "    doc['source'] = 'acne_types'\n",
    "for doc in faq_documents:\n",
    "    doc['source'] = 'faqs'\n"
   ]
  },
  {
   "cell_type": "code",
   "execution_count": 6,
   "id": "535476e5",
   "metadata": {},
   "outputs": [],
   "source": [
    "all_documents = acne_documents + faq_documents"
   ]
  },
  {
   "cell_type": "code",
   "execution_count": 7,
   "id": "20bac0f1",
   "metadata": {},
   "outputs": [],
   "source": [
    "index = Index(\n",
    "    text_fields=[\n",
    "        'Acne Type', 'Description', 'Common Locations', 'Common Causes', \n",
    "        'Initial Treatment', 'OTC Ingredients', 'Skincare Recommendations',\n",
    "        'Skincare Ingredients to Avoid', 'When to Consult Dermatologist',\n",
    "        'Expected Timeline', 'Combination Considerations', 'Skin Type Adjustments',\n",
    "        'Age-Specific Considerations', 'Question', 'Answer', 'Category'\n",
    "    ],\n",
    "    keyword_fields=['source']\n",
    ")"
   ]
  },
  {
   "cell_type": "code",
   "execution_count": 8,
   "id": "b514bb0a",
   "metadata": {},
   "outputs": [
    {
     "data": {
      "text/plain": [
       "<scripts.minsearch.Index at 0x226afca9b50>"
      ]
     },
     "execution_count": 8,
     "metadata": {},
     "output_type": "execute_result"
    }
   ],
   "source": [
    "index.fit(all_documents)"
   ]
  },
  {
   "cell_type": "markdown",
   "id": "e6674a26",
   "metadata": {},
   "source": [
    "# RAG Flow"
   ]
  },
  {
   "cell_type": "code",
   "execution_count": 9,
   "id": "1917e5c8",
   "metadata": {},
   "outputs": [],
   "source": [
    "DIAGNOSIS_TEMPLATE = \"\"\"\n",
    "You are an expert dermatology assistant for the Acne Sense app.\n",
    "Create helpful recommendations based on the PATIENT PROFILE and ACNE INFORMATION provided.\n",
    "Your response should be concise, informative, and structured in these sections:\n",
    "1. OVERVIEW - Brief summary of detected acne condition (1-2 sentences)\n",
    "2. RECOMMENDATIONS - Specific treatment suggestions based on acne type, skin type, and age\n",
    "3. SKINCARE TIPS - Practical daily skincare advice tailored to the patient\n",
    "4. IMPORTANT NOTES - Any warnings, timeline expectations, or when to consult a dermatologist\n",
    "\n",
    "Your response should directly address their specific situation without asking follow-up questions.\n",
    "Base your recommendations ONLY on the knowledge provided in ACNE INFORMATION.\n",
    "\n",
    "PATIENT PROFILE:\n",
    "{patient_profile}\n",
    "\n",
    "ACNE INFORMATION:\n",
    "{acne_info}\n",
    "\"\"\".strip()\n",
    "\n",
    "QA_TEMPLATE = \"\"\"\n",
    "You are an expert dermatologist assistant for the Acne Sense app.\n",
    "Answer the USER'S QUESTION based on the CONTEXT provided from our knowledge base.\n",
    "Use only the facts from the CONTEXT when answering the QUESTION.\n",
    "If you don't know the answer based on the context, say \"I don't have enough information to answer that question.\"\n",
    "Your responses should be informative, accurate, and presented in a compassionate, professional tone.\n",
    "\n",
    "CONTEXT:\n",
    "{context}\n",
    "\n",
    "USER'S QUESTION: {query}\n",
    "\"\"\".strip()\n",
    "\n",
    "ACNE_DOC_TEMPLATE = \"\"\"\n",
    "Acne Type: {Acne Type}\n",
    "Description: {Description}\n",
    "Common Locations: {Common Locations}\n",
    "Common Causes: {Common Causes}\n",
    "Initial Treatment: {Initial Treatment}\n",
    "OTC Ingredients: {OTC Ingredients}\n",
    "Skincare Recommendations: {Skincare Recommendations}\n",
    "Ingredients to Avoid: {Skincare Ingredients to Avoid}\n",
    "When to Consult Dermatologist: {When to Consult Dermatologist}\n",
    "Expected Timeline: {Expected Timeline}\n",
    "Combination Considerations: {Combination Considerations}\n",
    "Skin Type Adjustments: {Skin Type Adjustments}\n",
    "Age-Specific Considerations: {Age-Specific Considerations}\n",
    "\"\"\".strip()\n",
    "\n",
    "FAQ_DOC_TEMPLATE = \"\"\"\n",
    "Question: {Question}\n",
    "Answer: {Answer}\n",
    "Category: {Category}\n",
    "\"\"\".strip()"
   ]
  },
  {
   "cell_type": "code",
   "execution_count": 10,
   "id": "cfd6890a",
   "metadata": {},
   "outputs": [],
   "source": [
    "def search(query: str, filter_dict: Dict = None, num_results: int = 5) -> List[Dict]:\n",
    "    \"\"\"Search the knowledge base for relevant documents\"\"\"\n",
    "    filter_dict = filter_dict or {}\n",
    "    \n",
    "    results = index.search(\n",
    "        query=query,\n",
    "        filter_dict=filter_dict,\n",
    "        boost_dict={},\n",
    "        num_results=num_results\n",
    "    )\n",
    "    \n",
    "    return results\n"
   ]
  },
  {
   "cell_type": "code",
   "execution_count": 11,
   "id": "458d5196",
   "metadata": {},
   "outputs": [],
   "source": [
    "def build_context_from_documents(documents: List[Dict]) -> str:\n",
    "    \"\"\"Build context string from search result documents\"\"\"\n",
    "    context = \"\"\n",
    "    \n",
    "    for doc in documents:\n",
    "        if doc.get('source') == 'acne_types':\n",
    "            try:\n",
    "                context += ACNE_DOC_TEMPLATE.format(**doc) + \"\\n\\n\"\n",
    "            except KeyError:\n",
    "                # Handle missing keys\n",
    "                pass\n",
    "        elif doc.get('source') == 'faqs':\n",
    "            try:\n",
    "                context += FAQ_DOC_TEMPLATE.format(**doc) + \"\\n\\n\"\n",
    "            except KeyError:\n",
    "                # Handle missing keys\n",
    "                pass\n",
    "    \n",
    "    return context"
   ]
  },
  {
   "cell_type": "code",
   "execution_count": 12,
   "id": "60e5d172",
   "metadata": {},
   "outputs": [],
   "source": [
    "def call_llm(prompt: str, model: str = \"qwen2:7b\") -> str:\n",
    "    \"\"\"Get response from Ollama LLM\"\"\"\n",
    "    try:\n",
    "        response = requests.post(\n",
    "            'http://localhost:11434/api/generate',\n",
    "            json={\n",
    "                \"model\": model,\n",
    "                \"prompt\": prompt,\n",
    "                \"stream\": False\n",
    "            },\n",
    "            timeout=120  \n",
    "        )\n",
    "        \n",
    "        if response.status_code == 200:\n",
    "            return response.json().get('response', 'No response generated')\n",
    "        else:\n",
    "            return f\"Error: {response.status_code} - {response.text}\"\n",
    "    except Exception as e:\n",
    "        return f\"Error connecting to Ollama: {str(e)}\""
   ]
  },
  {
   "cell_type": "code",
   "execution_count": 13,
   "id": "8bf32259",
   "metadata": {},
   "outputs": [],
   "source": [
    "def process_diagnosis(acne_types: List[str], user_info: Dict[str, Any], model: str = \"qwen2:7b\") -> str:\n",
    "    \"\"\"Process CV diagnosis results and provide recommendations\"\"\"\n",
    "\n",
    "    patient_profile = f\"\"\"\n",
    "    Age: {user_info.get('age', 'Unknown')}\n",
    "    Skin Type: {user_info.get('skin_type', 'Unknown')}\n",
    "    Skin Tone: {user_info.get('skin_tone', 'Unknown')}\n",
    "    Sensitivity: {user_info.get('skin_sensitivity', 'Unknown')}\n",
    "    \"\"\".strip()\n",
    "    \n",
    "    # Retrieve relevant acne information\n",
    "    acne_info = \"\"\n",
    "    \n",
    "    for acne_type in acne_types:\n",
    "        search_results = search(\n",
    "            query=acne_type,\n",
    "            filter_dict={\"source\": \"acne_types\"},\n",
    "            num_results=1\n",
    "        )\n",
    "        \n",
    "        if search_results:\n",
    "            acne_info += build_context_from_documents(search_results)\n",
    "    \n",
    "    # If we have multiple acne types, search for combination considerations\n",
    "    if len(acne_types) > 1:\n",
    "        combination_query = \" \".join(acne_types) + \" combination\"\n",
    "        combo_results = search(\n",
    "            query=combination_query,\n",
    "            num_results=3\n",
    "        )\n",
    "        if combo_results:\n",
    "            acne_info += \"\\n\\nCombination Considerations:\\n\"\n",
    "            acne_info += build_context_from_documents(combo_results)\n",
    "    \n",
    "    # Build the final prompt\n",
    "    prompt = DIAGNOSIS_TEMPLATE.format(\n",
    "        patient_profile=patient_profile,\n",
    "        acne_info=acne_info\n",
    "    )\n",
    "    \n",
    "    # Get response from LLM\n",
    "    response = call_llm(prompt, model)\n",
    "    \n",
    "    return response"
   ]
  },
  {
   "cell_type": "code",
   "execution_count": 14,
   "id": "3d70e35a",
   "metadata": {},
   "outputs": [],
   "source": [
    "def answer_question(query: str, model: str = \"qwen2:7b\") -> str:\n",
    "    \"\"\"Answer a user question using the knowledge base\"\"\"\n",
    "    # Get relevant context from the search index\n",
    "    search_results = search(query, num_results=5)\n",
    "    \n",
    "    # Build context from search results\n",
    "    context = build_context_from_documents(search_results)\n",
    "    \n",
    "    # Build the prompt with the context\n",
    "    prompt = QA_TEMPLATE.format(context=context, query=query)\n",
    "    \n",
    "    # Get response from the model\n",
    "    answer = call_llm(prompt, model)\n",
    "    \n",
    "    return answer"
   ]
  },
  {
   "cell_type": "markdown",
   "id": "a8d3d184",
   "metadata": {},
   "source": [
    "# RAG Test"
   ]
  },
  {
   "cell_type": "code",
   "execution_count": 16,
   "id": "db507732",
   "metadata": {},
   "outputs": [
    {
     "name": "stdout",
     "output_type": "stream",
     "text": [
      "Test Case 1: Single Acne Type (Pustule)\n",
      "Acne Types: ['Pustule']\n",
      "User Info: {'age': 17, 'skin_type': 'Oily', 'skin_tone': 'Light', 'skin_sensitivity': 'Low'}\n",
      "\n",
      "Diagnosis Response:\n",
      "OVERVIEW:\n",
      "The patient has an inflamed pustular acne on the face and back with low sensitivity. The condition is exacerbated by bacterial proliferation, excess oil production, and clogged pores.\n",
      "\n",
      "RECOMMENDATIONS:\n",
      "\n",
      "1. Start with a benzoyl peroxide-based product (3-5% concentration) once daily at night to target bacterial growth.\n",
      "2. Incorporate an over-the-counter topical antibiotic like erythromycin or azelaic acid in the treatment regimen for localized infections.\n",
      "3. Use oil-free cleansers specifically formulated for acne-prone skin twice daily, avoiding harsh scrubbing that can irritate sensitive skin.\n",
      "\n",
      "SKINCARE TIPS:\n",
      "\n",
      "1. In the morning: Wash face with a gentle oil-free cleanser and follow up with a non-comedogenic moisturizer to maintain hydration without clogging pores.\n",
      "2. At night: Cleanse with an oil-free, fragrance-free wash and apply benzoyl peroxide or azelaic acid for targeted treatment of acne lesions.\n",
      "3. Incorporate weekly clay masks to absorb excess oil and reduce inflammation; ensure the mask is gentle and suitable for sensitive skin.\n",
      "\n",
      "IMPORTANT NOTES:\n",
      "\n",
      "1. Monitor improvement after 2-4 weeks of consistent use of recommended products. If there's no noticeable change, consult a dermatologist before making significant adjustments to your skincare routine.\n",
      "2. Continue using non-drying retinoids in combination with the benzoyl peroxide or azelaic acid for better results and reduced risk of irritation.\n",
      "3. Be cautious when trying new products - discontinue use if you experience excessive redness, dryness, or discomfort. Seek professional advice if needed.\n",
      "\n",
      "Adjust skincare recommendations based on your skin type and sensitivity:\n",
      "- For sensitive skin: opt for fragrance-free, hypoallergenic formulas with gentle exfoliants like AHAs.\n",
      "- For oily skin: prefer mattifying serums that regulate sebum production without stripping the skin of essential oils.\n",
      "\n",
      "Tailor treatment plans according to age-specific considerations; teens should focus on avoiding excessive scrubbing and using acne-friendly products, while adults might need to explore hormonal causes.\n",
      "--------------------------------------------------------------------------------\n"
     ]
    }
   ],
   "source": [
    "print(\"Test Case 1: Single Acne Type (Pustule)\")\n",
    "acne_types1 = [\"Pustule\"]\n",
    "user_info1 = {\n",
    "    \"age\": 17,\n",
    "    \"skin_type\": \"Oily\", \n",
    "    \"skin_tone\": \"Light\",\n",
    "    \"skin_sensitivity\": \"Low\"\n",
    "}\n",
    "\n",
    "print(f\"Acne Types: {acne_types1}\")\n",
    "print(f\"User Info: {user_info1}\")\n",
    "response1 = process_diagnosis(acne_types1, user_info1)\n",
    "print(\"\\nDiagnosis Response:\")\n",
    "print(response1)\n",
    "print(\"-\" * 80)"
   ]
  },
  {
   "cell_type": "code",
   "execution_count": 17,
   "id": "b0bea35f",
   "metadata": {},
   "outputs": [
    {
     "name": "stdout",
     "output_type": "stream",
     "text": [
      "Test Case 2: Multiple Acne Types (Cyst + Blackhead)\n",
      "Acne Types: ['Cyst', 'Blackhead']\n",
      "User Info: {'age': 32, 'skin_type': 'Combination', 'skin_tone': 'Medium', 'skin_sensitivity': 'High'}\n",
      "\n",
      "Diagnosis Response:\n",
      "OVERVIEW:\n",
      "You have both cystic acne and blackhead conditions. Cystic acne involves large, painful lesions that can lead to scarring, while blackheads are open comedones with a darkened oxidized sebum plug.\n",
      "\n",
      "RECOMMENDATIONS:\n",
      "\n",
      "1. For your cystic acne:\n",
      "   - Use oral antibiotics like doxycycline under a dermatologist's supervision.\n",
      "   - Consider intralesional steroid injections for relief from pain and inflammation.\n",
      "   - Isotretinoin might be recommended if other treatments fail, but it requires careful monitoring due to potential side effects.\n",
      "\n",
      "2. For blackheads:\n",
      "   - Opt for salicylic acid products at concentrations of 0.5-2% for gentle exfoliation and pore unclogging.\n",
      "   - Use clay masks or toners with charcoal to draw out impurities without causing dryness.\n",
      "   - Limit the use of thick, occlusive oils like mineral oil and avoid silicone-heavy products.\n",
      "\n",
      "SKINCARE TIPS:\n",
      "- For cystic acne: Focus on anti-inflammatory ingredients like niacinamide. Gentle hydrating products can help maintain skin's barrier function while minimizing irritation.\n",
      "- For blackheads: Incorporate daily exfoliation with a mild chemical or physical exfoliant to prevent pore congestion. Avoid abrasive treatments that could exacerbate your condition.\n",
      "\n",
      "IMPORTANT NOTES:\n",
      "- Monitor the timeline for improvement, which might take 8-12 weeks for cystic acne and 4-8 weeks for blackheads.\n",
      "- If you experience severe pain or scarring concerns, consult a dermatologist immediately.\n",
      "- Adjust skincare based on skin type: use lightweight hydration with oily skin while dry skin may benefit from barrier-repairing ingredients.\n",
      "\n",
      "Combination Considerations:\n",
      "When dealing with both cystic acne and blackheads simultaneously, focus on treating the most severe condition first. Avoid combining treatments that could exacerbate inflammation or clog pores. Prioritize anti-inflammatory care for cystic acne and gentle exfoliation to manage blackheads. Consult a dermatologist if you're unsure about how to proceed with your skincare routine.\n",
      "\n",
      "Teens should emphasize consistent cleansing routines, while adults may need to address hormonal health as a contributing factor.\n",
      "--------------------------------------------------------------------------------\n"
     ]
    }
   ],
   "source": [
    "print(\"Test Case 2: Multiple Acne Types (Cyst + Blackhead)\")\n",
    "acne_types2 = [\"Cyst\", \"Blackhead\"]\n",
    "user_info2 = {\n",
    "    \"age\": 32,\n",
    "    \"skin_type\": \"Combination\",\n",
    "    \"skin_tone\": \"Medium\", \n",
    "    \"skin_sensitivity\": \"High\"\n",
    "}\n",
    "\n",
    "print(f\"Acne Types: {acne_types2}\")\n",
    "print(f\"User Info: {user_info2}\")\n",
    "response2 = process_diagnosis(acne_types2, user_info2)\n",
    "print(\"\\nDiagnosis Response:\")\n",
    "print(response2)\n",
    "print(\"-\" * 80)"
   ]
  },
  {
   "cell_type": "code",
   "execution_count": 18,
   "id": "2c8a5b5d",
   "metadata": {},
   "outputs": [
    {
     "name": "stdout",
     "output_type": "stream",
     "text": [
      "Question 1: Is my skin photo data stored or shared?\n",
      "Answer: No. The photos you upload for analysis are processed anonymously and deleted immediately after analysis. We adhere to GDPR and HIPAA standards to protect your privacy.\n",
      "--------------------------------------------------------------------------------\n",
      "Question 2: Can Acne Sense replace a dermatologist?\n",
      "Answer: No. While the Acne Sense app can provide initial guidance and recommendations based on your input about your acne condition, it is not capable of replacing professional medical evaluation by a dermatologist. Severe cases such as Acne Fulminans or when symptoms include signs like ulcerations, fever, weight loss require urgent medical care from a specialist. Additionally, persistent symptoms, especially those related to Excoriated Acne where anxiety or compulsive picking are factors, should be addressed with behavioral therapy and, if necessary, consultation of a dermatologist to ensure proper treatment and prevent further complications. Similarly, for Acne Mechanica triggered by physical occlusion or repetitive rubbing, the app can suggest preventive measures but professional advice is needed when lesions persist despite eliminating triggers. Lastly, Blackhead management involves consistent exfoliation which may lead to inflamed acne or scarring if not properly handled; thus, regular check-ups and guidance from a dermatologist are essential for optimal skin health and treatment outcomes.\n",
      "--------------------------------------------------------------------------------\n"
     ]
    }
   ],
   "source": [
    "questions = [\n",
    "    \"Is my skin photo data stored or shared?\",\n",
    "    # \"How accurate is the AI in detecting acne types?\",\n",
    "    # \"Does the app work for all skin tones?\",\n",
    "    \"Can Acne Sense replace a dermatologist?\"\n",
    "]\n",
    "\n",
    "for i, question in enumerate(questions, 1):\n",
    "    print(f\"Question {i}: {question}\")\n",
    "    answer = answer_question(question)\n",
    "    print(f\"Answer: {answer}\")\n",
    "    print(\"-\" * 80)"
   ]
  },
  {
   "cell_type": "code",
   "execution_count": 19,
   "id": "3a4a6a94",
   "metadata": {},
   "outputs": [
    {
     "name": "stdout",
     "output_type": "stream",
     "text": [
      "Custom Question: What are the best treatments for cystic acne for someone with sensitive skin?\n",
      "Answer: For a person with cystic acne who has sensitive skin, it's crucial to select gentle and soothing treatments. The main goal is to manage inflammation while avoiding irritants that could exacerbate sensitivity.\n",
      "\n",
      "1. **Initial Treatment**: Oral isotretinoin might be considered under the supervision of a dermatologist due to its effectiveness in severe cases, but it should always be used cautiously because of potential side effects.\n",
      "\n",
      "2. **OTC Ingredients**: The utility of over-the-counter treatments for cystic acne is limited; however, focusing on gentle cleansing products with no harsh ingredients can be beneficial.\n",
      "\n",
      "3. **Skincare Recommendations**:\n",
      "   - Use barrier-repair creams that help strengthen the skin's natural defenses without causing irritation.\n",
      "   - Opt for hypoallergenic products formulated specifically to prevent skin sensitivity reactions.\n",
      "   - Sterile wound care techniques are recommended, especially if the cystic acne leads to sinuses or breaks open.\n",
      "\n",
      "4. **Ingredients to Avoid**:\n",
      "   - Harsh exfoliants that might irritate sensitive skin should be avoided.\n",
      "   - Alcohol and fragrances can cause irritation; seek products that are free from these ingredients.\n",
      "\n",
      "5. **When to Consult**: If draining sinuses occur with cystic acne, or if there is a systemic reaction such as fever, it's advisable to consult a dermatologist immediately.\n",
      "\n",
      "6. **Expected Timeline**: Cystic acne under sensitive skin might require a management timeline of 6-12 months for controlled resolution, though results may vary depending on the severity and individual response.\n",
      "\n",
      "7. **Combination Considerations**: Avoid combining aggressive treatments that could potentially exacerbate sensitivity or cause further damage to the skin barrier. It's essential to monitor and adjust products based on how sensitive skin responds.\n",
      "\n",
      "8. **Skin Type Adjustments**:\n",
      "   - For sensitive skin, ingredients like oat extract can help in soothing irritation.\n",
      "   - Incorporating mild exfoliation can still be beneficial if done carefully; ensure that it doesn't overly dry or irritate the skin.\n",
      "\n",
      "9. **Age-Specific Considerations**: Young adults are commonly affected by cystic acne, so regular dermatological consultations might be helpful to monitor any changes and effectively manage symptoms.\n",
      "\n",
      "In summary, managing cystic acne with sensitive skin requires a delicate balance of treatment strategies that focus on reducing inflammation while avoiding potential irritants. Regular consultation with a dermatologist can provide personalized advice based on individual skin characteristics and the severity of acne.\n",
      "--------------------------------------------------------------------------------\n",
      "Testing completed!\n"
     ]
    }
   ],
   "source": [
    "custom_question = \"What are the best treatments for cystic acne for someone with sensitive skin?\"\n",
    "print(f\"Custom Question: {custom_question}\")\n",
    "custom_answer = answer_question(custom_question)\n",
    "print(f\"Answer: {custom_answer}\")\n",
    "print(\"-\" * 80)\n",
    "\n",
    "print(\"Testing completed!\")"
   ]
  }
 ],
 "metadata": {
  "kernelspec": {
   "display_name": ".acne-sense-llm-venv",
   "language": "python",
   "name": "python3"
  },
  "language_info": {
   "codemirror_mode": {
    "name": "ipython",
    "version": 3
   },
   "file_extension": ".py",
   "mimetype": "text/x-python",
   "name": "python",
   "nbconvert_exporter": "python",
   "pygments_lexer": "ipython3",
   "version": "3.12.9"
  }
 },
 "nbformat": 4,
 "nbformat_minor": 5
}

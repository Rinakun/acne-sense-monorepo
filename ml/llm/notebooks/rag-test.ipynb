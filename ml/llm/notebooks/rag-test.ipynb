{
 "cells": [
  {
   "cell_type": "code",
   "execution_count": 46,
   "id": "deb53424-5e8a-4de2-895b-aa88a13b0bed",
   "metadata": {},
   "outputs": [],
   "source": [
    "import pandas as pd\n",
    "import json\n",
    "import numpy as np\n",
    "import sys\n",
    "import requests\n",
    "from pathlib import Path\n",
    "from tqdm.auto import tqdm\n",
    "from typing import Dict, List, Any, Optional, Union\n",
    "\n",
    "sys.path.append(str(Path.cwd().parent))\n",
    "from scripts.minsearch import Index"
   ]
  },
  {
   "cell_type": "markdown",
   "id": "a855b1fb",
   "metadata": {},
   "source": [
    "# Ingestion"
   ]
  },
  {
   "cell_type": "code",
   "execution_count": 47,
   "id": "0116918e",
   "metadata": {},
   "outputs": [],
   "source": [
    "acne_types_df = pd.read_csv('../data/knowledge-base/acne_types.csv', sep=';')\n",
    "faqs_df = pd.read_csv('../data/knowledge-base/faqs.csv', sep=';')"
   ]
  },
  {
   "cell_type": "code",
   "execution_count": 48,
   "id": "217ed9d5",
   "metadata": {},
   "outputs": [],
   "source": [
    "acne_documents = acne_types_df.to_dict(orient='records')\n",
    "faq_documents = faqs_df.to_dict(orient='records')"
   ]
  },
  {
   "cell_type": "code",
   "execution_count": 49,
   "id": "87e05ad0",
   "metadata": {},
   "outputs": [],
   "source": [
    "for doc in acne_documents:\n",
    "    doc['source'] = 'acne_types'\n",
    "for doc in faq_documents:\n",
    "    doc['source'] = 'faqs'\n"
   ]
  },
  {
   "cell_type": "code",
   "execution_count": 50,
   "id": "535476e5",
   "metadata": {},
   "outputs": [],
   "source": [
    "all_documents = acne_documents + faq_documents"
   ]
  },
  {
   "cell_type": "code",
   "execution_count": 51,
   "id": "20bac0f1",
   "metadata": {},
   "outputs": [],
   "source": [
    "index = Index(\n",
    "    text_fields=[\n",
    "        'Acne Type', 'Description', 'Common Locations', 'Common Causes', \n",
    "        'Initial Treatment', 'OTC Ingredients', 'Skincare Recommendations',\n",
    "        'Skincare Ingredients to Avoid', 'When to Consult Dermatologist',\n",
    "        'Expected Timeline', 'Combination Considerations', 'Skin Type Adjustments',\n",
    "        'Age-Specific Considerations', 'Question', 'Answer', 'Category'\n",
    "    ],\n",
    "    keyword_fields=['source']\n",
    ")"
   ]
  },
  {
   "cell_type": "code",
   "execution_count": 52,
   "id": "b514bb0a",
   "metadata": {},
   "outputs": [
    {
     "data": {
      "text/plain": [
       "<scripts.minsearch.Index at 0x1f4d14d8dd0>"
      ]
     },
     "execution_count": 52,
     "metadata": {},
     "output_type": "execute_result"
    }
   ],
   "source": [
    "index.fit(all_documents)"
   ]
  },
  {
   "cell_type": "markdown",
   "id": "e6674a26",
   "metadata": {},
   "source": [
    "# RAG Flow"
   ]
  },
  {
   "cell_type": "code",
   "execution_count": 53,
   "id": "1917e5c8",
   "metadata": {},
   "outputs": [],
   "source": [
    "DIAGNOSIS_TEMPLATE = \"\"\"\n",
    "You are an expert dermatology assistant for the Acne Sense app.\n",
    "Create helpful recommendations based on the PATIENT PROFILE and ACNE INFORMATION provided.\n",
    "Your response should be concise, informative, and structured in these sections:\n",
    "1. OVERVIEW - Brief summary of detected acne condition (1-2 sentences)\n",
    "2. RECOMMENDATIONS - Specific treatment suggestions based on acne type, skin type, and age\n",
    "3. SKINCARE TIPS - Practical daily skincare advice tailored to the patient\n",
    "4. IMPORTANT NOTES - Any warnings, timeline expectations, or when to consult a dermatologist\n",
    "\n",
    "Your response should directly address their specific situation without asking follow-up questions.\n",
    "Base your recommendations ONLY on the knowledge provided in ACNE INFORMATION.\n",
    "\n",
    "PATIENT PROFILE:\n",
    "{patient_profile}\n",
    "\n",
    "ACNE INFORMATION:\n",
    "{acne_info}\n",
    "\"\"\".strip()\n",
    "\n",
    "QA_TEMPLATE = \"\"\"\n",
    "You are an expert dermatologist assistant for the Acne Sense app.\n",
    "Answer the USER'S QUESTION based on the CONTEXT provided from our knowledge base.\n",
    "Use only the facts from the CONTEXT when answering the QUESTION.\n",
    "If you don't know the answer based on the context, say \"I don't have enough information to answer that question.\"\n",
    "Your responses should be informative, accurate, and presented in a compassionate, professional tone.\n",
    "\n",
    "CONTEXT:\n",
    "{context}\n",
    "\n",
    "USER'S QUESTION: {query}\n",
    "\"\"\".strip()\n",
    "\n",
    "ACNE_DOC_TEMPLATE = \"\"\"\n",
    "Acne Type: {Acne Type}\n",
    "Description: {Description}\n",
    "Common Locations: {Common Locations}\n",
    "Common Causes: {Common Causes}\n",
    "Initial Treatment: {Initial Treatment}\n",
    "OTC Ingredients: {OTC Ingredients}\n",
    "Skincare Recommendations: {Skincare Recommendations}\n",
    "Ingredients to Avoid: {Skincare Ingredients to Avoid}\n",
    "When to Consult Dermatologist: {When to Consult Dermatologist}\n",
    "Expected Timeline: {Expected Timeline}\n",
    "Combination Considerations: {Combination Considerations}\n",
    "Skin Type Adjustments: {Skin Type Adjustments}\n",
    "Age-Specific Considerations: {Age-Specific Considerations}\n",
    "\"\"\".strip()\n",
    "\n",
    "FAQ_DOC_TEMPLATE = \"\"\"\n",
    "Question: {Question}\n",
    "Answer: {Answer}\n",
    "Category: {Category}\n",
    "\"\"\".strip()"
   ]
  },
  {
   "cell_type": "code",
   "execution_count": 54,
   "id": "cfd6890a",
   "metadata": {},
   "outputs": [],
   "source": [
    "def search(query: str, filter_dict: Dict = None, num_results: int = 10) -> List[Dict]:\n",
    "    \"\"\"Search the knowledge base for relevant documents\"\"\"\n",
    "    filter_dict = filter_dict or {}\n",
    "    \n",
    "    results = index.search(\n",
    "        query=query,\n",
    "        filter_dict=filter_dict,\n",
    "        boost_dict={},\n",
    "        num_results=num_results\n",
    "    )\n",
    "    \n",
    "    return results\n"
   ]
  },
  {
   "cell_type": "code",
   "execution_count": 55,
   "id": "458d5196",
   "metadata": {},
   "outputs": [],
   "source": [
    "def build_context_from_documents(documents: List[Dict]) -> str:\n",
    "    \"\"\"Build context string from search result documents\"\"\"\n",
    "    context = \"\"\n",
    "    \n",
    "    for doc in documents:\n",
    "        if doc.get('source') == 'acne_types':\n",
    "            try:\n",
    "                context += ACNE_DOC_TEMPLATE.format(**doc) + \"\\n\\n\"\n",
    "            except KeyError:\n",
    "                # Handle missing keys\n",
    "                pass\n",
    "        elif doc.get('source') == 'faqs':\n",
    "            try:\n",
    "                context += FAQ_DOC_TEMPLATE.format(**doc) + \"\\n\\n\"\n",
    "            except KeyError:\n",
    "                # Handle missing keys\n",
    "                pass\n",
    "    \n",
    "    return context"
   ]
  },
  {
   "cell_type": "code",
   "execution_count": 56,
   "id": "60e5d172",
   "metadata": {},
   "outputs": [],
   "source": [
    "def call_llm(prompt: str, model: str = \"qwen2:7b\") -> str:\n",
    "    \"\"\"Get response from Ollama LLM\"\"\"\n",
    "    try:\n",
    "        response = requests.post(\n",
    "            'http://localhost:11434/api/generate',\n",
    "            json={\n",
    "                \"model\": model,\n",
    "                \"prompt\": prompt,\n",
    "                \"stream\": False\n",
    "            },\n",
    "            timeout=120  \n",
    "        )\n",
    "        \n",
    "        if response.status_code == 200:\n",
    "            return response.json().get('response', 'No response generated')\n",
    "        else:\n",
    "            return f\"Error: {response.status_code} - {response.text}\"\n",
    "    except Exception as e:\n",
    "        return f\"Error connecting to Ollama: {str(e)}\""
   ]
  },
  {
   "cell_type": "code",
   "execution_count": 57,
   "id": "8bf32259",
   "metadata": {},
   "outputs": [],
   "source": [
    "def process_diagnosis(acne_types: List[str], user_info: Dict[str, Any], model: str = \"qwen2:7b\") -> str:\n",
    "    \"\"\"Process CV diagnosis results and provide recommendations\"\"\"\n",
    "\n",
    "    patient_profile = f\"\"\"\n",
    "    Age: {user_info.get('age', 'Unknown')}\n",
    "    Skin Type: {user_info.get('skin_type', 'Unknown')}\n",
    "    Skin Tone: {user_info.get('skin_tone', 'Unknown')}\n",
    "    Sensitivity: {user_info.get('skin_sensitivity', 'Unknown')}\n",
    "    \"\"\".strip()\n",
    "    \n",
    "    # Retrieve relevant acne information\n",
    "    acne_info = \"\"\n",
    "    \n",
    "    for acne_type in acne_types:\n",
    "        search_results = search(\n",
    "            query=acne_type,\n",
    "            filter_dict={\"source\": \"acne_types\"},\n",
    "            num_results=1\n",
    "        )\n",
    "        \n",
    "        if search_results:\n",
    "            acne_info += build_context_from_documents(search_results)\n",
    "    \n",
    "    # If we have multiple acne types, search for combination considerations\n",
    "    if len(acne_types) > 1:\n",
    "        combination_query = \" \".join(acne_types) + \" combination\"\n",
    "        combo_results = search(\n",
    "            query=combination_query,\n",
    "            num_results=3\n",
    "        )\n",
    "        if combo_results:\n",
    "            acne_info += \"\\n\\nCombination Considerations:\\n\"\n",
    "            acne_info += build_context_from_documents(combo_results)\n",
    "    \n",
    "    # Build the final prompt\n",
    "    prompt = DIAGNOSIS_TEMPLATE.format(\n",
    "        patient_profile=patient_profile,\n",
    "        acne_info=acne_info\n",
    "    )\n",
    "    \n",
    "    # Get response from LLM\n",
    "    response = call_llm(prompt, model)\n",
    "    \n",
    "    return response"
   ]
  },
  {
   "cell_type": "code",
   "execution_count": 58,
   "id": "3d70e35a",
   "metadata": {},
   "outputs": [],
   "source": [
    "def answer_question(query: str, model: str = \"qwen2:7b\") -> str:\n",
    "    \"\"\"Answer a user question using the knowledge base\"\"\"\n",
    "    # Get relevant context from the search index\n",
    "    search_results = search(query, num_results=5)\n",
    "    \n",
    "    # Build context from search results\n",
    "    context = build_context_from_documents(search_results)\n",
    "    \n",
    "    # Build the prompt with the context\n",
    "    prompt = QA_TEMPLATE.format(context=context, query=query)\n",
    "    \n",
    "    # Get response from the model\n",
    "    answer = call_llm(prompt, model)\n",
    "    \n",
    "    return answer"
   ]
  },
  {
   "cell_type": "markdown",
   "id": "a8d3d184",
   "metadata": {},
   "source": [
    "# RAG Test"
   ]
  },
  {
   "cell_type": "code",
   "execution_count": 59,
   "id": "db507732",
   "metadata": {},
   "outputs": [
    {
     "name": "stdout",
     "output_type": "stream",
     "text": [
      "Test Case 1: Single Acne Type (Pustule)\n",
      "Acne Types: ['Pustule']\n",
      "User Info: {'age': 17, 'skin_type': 'Oily', 'skin_tone': 'Light', 'skin_sensitivity': 'Low'}\n",
      "\n",
      "Diagnosis Response:\n",
      "OVERVIEW:\n",
      "You have mild-to-moderate pustular acne primarily on the face (cheeks and chin), back, and shoulders. It's characterized by red inflamed bumps with pus-filled centers, likely due to bacterial proliferation, excess oil, and inflammation.\n",
      "\n",
      "RECOMMENDATIONS:\n",
      "1. **Initial Treatment**: Use a benzoyl peroxide or topical antibiotic like erythromycin as your primary treatment for pustules.\n",
      "2. **OTC Ingredients**: Incorporate benzoyl peroxide or salicylic acid products into your routine to address acne and reduce inflammation.\n",
      "3. **Skincare Products**: Opt for oil-free cleansers, non-comedogenic serums, and clay masks that help draw out excess sebum.\n",
      "\n",
      "SKINCARE TIPS:\n",
      "1. Wash your face twice a day with a gentle oil-free cleanser designed for oily skin types.\n",
      "2. Apply a lightweight moisturizer suitable for oily skin to maintain skin hydration without clogging pores.\n",
      "3. Use non-comedogenic serums containing niacinamide or hyaluronic acid, which help regulate sebum production and soothe inflammation.\n",
      "\n",
      "IMPORTANT NOTES:\n",
      "- Monitor the response within 2-4 weeks; if acne persists despite care, consult a dermatologist.\n",
      "- Be cautious with exfoliation - avoid over-scrubbing to prevent irritation. Consider using gentle chemical exfoliants like salicylic acid for improved texture without causing redness or peeling.\n",
      "- If your skin becomes dry or sensitive during treatment, switch to fragrance-free formulas and adjust products accordingly.\n",
      "\n",
      "By following these guidelines tailored to your oily skin type, sensitivity level, and age, you can manage your pustular acne effectively while minimizing irritation.\n",
      "--------------------------------------------------------------------------------\n"
     ]
    }
   ],
   "source": [
    "print(\"Test Case 1: Single Acne Type (Pustule)\")\n",
    "acne_types1 = [\"Pustule\"]\n",
    "user_info1 = {\n",
    "    \"age\": 17,\n",
    "    \"skin_type\": \"Oily\", \n",
    "    \"skin_tone\": \"Light\",\n",
    "    \"skin_sensitivity\": \"Low\"\n",
    "}\n",
    "\n",
    "print(f\"Acne Types: {acne_types1}\")\n",
    "print(f\"User Info: {user_info1}\")\n",
    "response1 = process_diagnosis(acne_types1, user_info1)\n",
    "print(\"\\nDiagnosis Response:\")\n",
    "print(response1)\n",
    "print(\"-\" * 80)"
   ]
  },
  {
   "cell_type": "code",
   "execution_count": 60,
   "id": "b0bea35f",
   "metadata": {},
   "outputs": [
    {
     "name": "stdout",
     "output_type": "stream",
     "text": [
      "Test Case 2: Multiple Acne Types (Cyst + Blackhead)\n",
      "Acne Types: ['Cyst', 'Blackhead']\n",
      "User Info: {'age': 32, 'skin_type': 'Combination', 'skin_tone': 'Medium', 'skin_sensitivity': 'High'}\n",
      "\n",
      "Diagnosis Response:\n",
      "OVERVIEW:\n",
      "The patient has a mixed acne condition featuring both cystic acne and blackheads. This combination requires dual approach treatment focusing on inflammation management and pore hygiene.\n",
      "\n",
      "RECOMMENDATIONS:\n",
      "1. **Cystic Acne**: Utilize oral antibiotics like doxycycline, intralesional steroid injections for immediate relief, and consider isotretinoin as a long-term solution if needed.\n",
      "2. **Blackheads**: Employ salicylic acid, retinoids (e.g., adapalene), and chemical exfoliants to address the T-zone concerns associated with excess sebum and dead skin cells.\n",
      "\n",
      "SKINCARE TIPS:\n",
      "- Use toners containing exfoliating ingredients like salicylic acid.\n",
      "- Incorporate clay masks or charcoal products for deep cleansing.\n",
      "- Choose oil-free primers to prevent pore clogging.\n",
      "\n",
      "AVOID INGREDIENTS/SKIN TYPE ADJUSTMENTS:\n",
      "- For dry skin, focus on barrier repair and hydration rather than daily exfoliation.\n",
      "- For oily skin, perform daily gentle exfoliation while minimizing use of heavy oils or silicones.\n",
      "\n",
      "IMPORTANT NOTES:\n",
      "- Combine treatments with careful consideration, prioritizing anti-inflammatory care for cystic acne and pore-focused products for blackheads.\n",
      "- Seek dermatologist consultation if there's severe pain from cysts, recurring issues despite treatment, or scarring concerns.\n",
      "- For adolescents, focus on consistent cleansing and addressing any underlying hormonal imbalances as adults should assess their overall health and manage potential hormone-induced flare-ups.\n",
      "\n",
      "Note: The patient is recommended to use specific products that target inflammation and sebum control for a balanced skincare regimen. They may consider using hydrocolloid patches to protect cystic areas during treatment while the skin heals.\n",
      "--------------------------------------------------------------------------------\n"
     ]
    }
   ],
   "source": [
    "print(\"Test Case 2: Multiple Acne Types (Cyst + Blackhead)\")\n",
    "acne_types2 = [\"Cyst\", \"Blackhead\"]\n",
    "user_info2 = {\n",
    "    \"age\": 32,\n",
    "    \"skin_type\": \"Combination\",\n",
    "    \"skin_tone\": \"Medium\", \n",
    "    \"skin_sensitivity\": \"High\"\n",
    "}\n",
    "\n",
    "print(f\"Acne Types: {acne_types2}\")\n",
    "print(f\"User Info: {user_info2}\")\n",
    "response2 = process_diagnosis(acne_types2, user_info2)\n",
    "print(\"\\nDiagnosis Response:\")\n",
    "print(response2)\n",
    "print(\"-\" * 80)"
   ]
  },
  {
   "cell_type": "code",
   "execution_count": 61,
   "id": "2c8a5b5d",
   "metadata": {},
   "outputs": [
    {
     "name": "stdout",
     "output_type": "stream",
     "text": [
      "Question 1: Is my skin photo data stored or shared?\n",
      "Answer: No. Photos are processed anonymously and deleted immediately after analysis. We comply with GDPR and HIPAA standards to protect user privacy.\n",
      "--------------------------------------------------------------------------------\n",
      "Question 2: Can Acne Sense replace a dermatologist?\n",
      "Answer: No. While Acne Sense provides initial guidance and valuable insights on acne management, it cannot fully replace the expertise of a dermatologist. Severe cases involving cysts, nodules, or complications like Acne Fulminans require professional evaluation by a specialist due to their severity and potential health impacts. Similarly, conditions such as Excoriated Acne that are worsened by compulsive picking or scratching necessitate not only medical treatment but also possibly behavioral therapy. Acne of the Acne Mechanica type triggered by physical factors also may need adjustments in lifestyle, which might require professional advice to eliminate triggers effectively.\n",
      "\n",
      "Furthermore, Acne Sense cannot provide personalized treatment for more complex cases like Acne Fulminans that may involve systemic symptoms such as fever and joint pain. Immediate hospitalization is often required for these severe forms of acne, which underscores the importance of consulting a dermatologist in urgent situations.\n",
      "\n",
      "In summary, while Acne Sense can be a helpful tool to understand your condition better and guide you towards appropriate treatments or lifestyle adjustments, it cannot replace professional medical advice and treatment from a qualified dermatologist. Always consider seeking expert evaluation when dealing with severe or persistent acne symptoms.\n",
      "--------------------------------------------------------------------------------\n"
     ]
    }
   ],
   "source": [
    "questions = [\n",
    "    \"Is my skin photo data stored or shared?\",\n",
    "    # \"How accurate is the AI in detecting acne types?\",\n",
    "    # \"Does the app work for all skin tones?\",\n",
    "    \"Can Acne Sense replace a dermatologist?\"\n",
    "]\n",
    "\n",
    "for i, question in enumerate(questions, 1):\n",
    "    print(f\"Question {i}: {question}\")\n",
    "    answer = answer_question(question)\n",
    "    print(f\"Answer: {answer}\")\n",
    "    print(\"-\" * 80)"
   ]
  },
  {
   "cell_type": "code",
   "execution_count": 62,
   "id": "3a4a6a94",
   "metadata": {},
   "outputs": [
    {
     "name": "stdout",
     "output_type": "stream",
     "text": [
      "Custom Question: What are the best treatments for cystic acne for someone with sensitive skin?\n",
      "Answer: For cystic acne in a person with sensitive skin, it is recommended to prioritize gentle and soothing treatments. First, consider focusing on barrier-repair creams that can help maintain your skin's natural moisture levels while minimizing irritation.\n",
      "\n",
      "You might want to use hypoallergenic products that avoid harsh ingredients such as alcohol and fragrances which could further irritate sensitive skin. Barrier-repairing moisturizers are particularly useful in maintaining the integrity of your skin barrier, helping to prevent acne from worsening due to barrier damage.\n",
      "\n",
      "For cleansing, opt for gentle PH-balanced cleansers instead of those that are stripping or contain harsh surfactants. Additionally, incorporating water-based formulas for toners and oils-free primers can help maintain a non-greasy finish on sensitive skin.\n",
      "\n",
      "In terms of active ingredients, focus on using anti-inflammatory and soothing components such as oat extract which is gentle but effective against redness and inflammation often associated with cystic acne. Non-comedogenic hyaluronic acid can also be beneficial for hydrating the skin without causing congestion or breakouts.\n",
      "\n",
      "It's crucial to consult a dermatologist if your cystic acne persists despite following a gentle skincare routine, as they might recommend systemic treatments like oral isotretinoin, biologics, or hormonal therapies depending on the severity and cause of your condition. For sensitive skin types, it's recommended to avoid harsh exfoliants that can exacerbate irritation and inflammation.\n",
      "\n",
      "For acne management in young adults experiencing cystic acne, it is particularly important to monitor for any psychological impact as well, which might require additional support beyond dermatological interventions.\n",
      "--------------------------------------------------------------------------------\n",
      "Testing completed!\n"
     ]
    }
   ],
   "source": [
    "custom_question = \"What are the best treatments for cystic acne for someone with sensitive skin?\"\n",
    "print(f\"Custom Question: {custom_question}\")\n",
    "custom_answer = answer_question(custom_question)\n",
    "print(f\"Answer: {custom_answer}\")\n",
    "print(\"-\" * 80)\n",
    "\n",
    "print(\"Testing completed!\")"
   ]
  },
  {
   "cell_type": "markdown",
   "id": "4423e07e",
   "metadata": {},
   "source": [
    "# Retrieval Evaluation"
   ]
  },
  {
   "cell_type": "code",
   "execution_count": 63,
   "id": "4d2c0508",
   "metadata": {},
   "outputs": [],
   "source": [
    "df_eval_questions = pd.read_csv('../data/knowledge-base/acne_retrieval_eval_questions.csv')"
   ]
  },
  {
   "cell_type": "code",
   "execution_count": 64,
   "id": "fc5e18a7",
   "metadata": {},
   "outputs": [],
   "source": [
    "ground_truth = df_eval_questions.to_dict(orient='records')"
   ]
  },
  {
   "cell_type": "code",
   "execution_count": 65,
   "id": "71210d06",
   "metadata": {},
   "outputs": [],
   "source": [
    "def hit_rate(relevance_total):\n",
    "    cnt = 0\n",
    "    for line in relevance_total:\n",
    "        if True in line:\n",
    "            cnt = cnt + 1\n",
    "    return cnt / len(relevance_total)"
   ]
  },
  {
   "cell_type": "code",
   "execution_count": 66,
   "id": "3cb7bf75",
   "metadata": {},
   "outputs": [],
   "source": [
    "def mrr(relevance_total):\n",
    "    total_score = 0.0\n",
    "    for line in relevance_total:\n",
    "        for rank in range(len(line)):\n",
    "            if line[rank] == True:\n",
    "                total_score = total_score + 1 / (rank + 1)\n",
    "    return total_score / len(relevance_total)\n"
   ]
  },
  {
   "cell_type": "code",
   "execution_count": 67,
   "id": "1f0ced17",
   "metadata": {},
   "outputs": [],
   "source": [
    "def evaluate(ground_truth, search_function):\n",
    "    relevance_total = []\n",
    "    \n",
    "    if ground_truth and len(ground_truth) > 0:\n",
    "        print(f\"Available keys: {list(ground_truth[0].keys())}\")\n",
    "        \n",
    "    for q in tqdm(ground_truth, desc=\"Evaluating questions\"):\n",
    "        doc_id = q['id']\n",
    "        results = search_function(q['question'])\n",
    "        \n",
    "        # Check if the retrieved documents match the ground truth\n",
    "        relevance = []\n",
    "        for doc in results:\n",
    "            is_relevant = False\n",
    "            if doc.get('source') == 'acne_types':\n",
    "                is_relevant = doc.get('Acne Type') == doc_id\n",
    "            elif doc.get('source') == 'faqs':\n",
    "                is_relevant = doc.get('Question') == doc_id\n",
    "            relevance.append(is_relevant)\n",
    "        \n",
    "        relevance_total.append(relevance)\n",
    "\n",
    "    return {\n",
    "        'hit_rate': hit_rate(relevance_total),\n",
    "        'mrr': mrr(relevance_total),\n",
    "    }"
   ]
  },
  {
   "cell_type": "code",
   "execution_count": 68,
   "id": "e2eff5e7",
   "metadata": {},
   "outputs": [
    {
     "name": "stdout",
     "output_type": "stream",
     "text": [
      "Available keys: ['id', 'question']\n"
     ]
    },
    {
     "data": {
      "application/vnd.jupyter.widget-view+json": {
       "model_id": "05aeeee0b161476d9de1c1865a8db101",
       "version_major": 2,
       "version_minor": 0
      },
      "text/plain": [
       "Evaluating questions:   0%|          | 0/140 [00:00<?, ?it/s]"
      ]
     },
     "metadata": {},
     "output_type": "display_data"
    }
   ],
   "source": [
    "baseline_results = evaluate(ground_truth, lambda q: search(q))"
   ]
  },
  {
   "cell_type": "code",
   "execution_count": 69,
   "id": "aee528d7",
   "metadata": {},
   "outputs": [
    {
     "data": {
      "text/plain": [
       "{'hit_rate': 0.8, 'mrr': 0.4149121315192746}"
      ]
     },
     "execution_count": 69,
     "metadata": {},
     "output_type": "execute_result"
    }
   ],
   "source": [
    "baseline_results"
   ]
  },
  {
   "cell_type": "markdown",
   "id": "f0da0a50",
   "metadata": {},
   "source": [
    "# Simple Tuning"
   ]
  },
  {
   "cell_type": "code",
   "execution_count": 70,
   "id": "7135e250",
   "metadata": {},
   "outputs": [],
   "source": [
    "import random\n",
    "\n",
    "def simple_optimize(param_ranges, objective_function, n_iterations=10):\n",
    "    \"\"\"Simple random search optimization for boost parameters\"\"\"\n",
    "    best_params = None\n",
    "    best_score = float('-inf')  # We're maximizing MRR\n",
    "\n",
    "    for _ in range(n_iterations):\n",
    "        # Generate random parameters within the specified ranges\n",
    "        current_params = {}\n",
    "        for param, (min_val, max_val) in param_ranges.items():\n",
    "            if isinstance(min_val, int) and isinstance(max_val, int):\n",
    "                current_params[param] = random.randint(min_val, max_val)\n",
    "            else:\n",
    "                current_params[param] = random.uniform(min_val, max_val)\n",
    "        \n",
    "        # Evaluate the objective function\n",
    "        current_score = objective_function(current_params)\n",
    "        \n",
    "        # Update best if current is better\n",
    "        if current_score > best_score:\n",
    "            best_score = current_score\n",
    "            best_params = current_params\n",
    "    \n",
    "    return best_params, best_score"
   ]
  },
  {
   "cell_type": "code",
   "execution_count": 71,
   "id": "886f19a0",
   "metadata": {},
   "outputs": [],
   "source": [
    "def create_splits():\n",
    "    length = len(df_eval_questions)\n",
    "    random.seed(42)\n",
    "    df_validation = df_eval_questions.iloc[:length//2] \n",
    "    df_test = df_eval_questions.iloc[length//2:]        \n",
    "    \n",
    "    val_data = df_validation.to_dict(orient='records')\n",
    "    test_data = df_test.to_dict(orient='records')\n",
    "    \n",
    "    return val_data, test_data\n",
    "\n",
    "val_data, test_data = create_splits()"
   ]
  },
  {
   "cell_type": "code",
   "execution_count": 72,
   "id": "7f2bcc4c",
   "metadata": {},
   "outputs": [],
   "source": [
    "param_ranges = {\n",
    "    'Acne Type': (0.0, 3.0),\n",
    "    'Description': (0.0, 3.0),\n",
    "    'Common Locations': (0.0, 3.0),\n",
    "    'Common Causes': (0.0, 3.0),\n",
    "    'Initial Treatment': (0.0, 3.0),\n",
    "    'OTC Ingredients': (0.0, 3.0),\n",
    "    'Skincare Recommendations': (0.0, 3.0),\n",
    "    'Skincare Ingredients to Avoid': (0.0, 3.0),\n",
    "    'When to Consult Dermatologist': (0.0, 3.0),\n",
    "    'Expected Timeline': (0.0, 3.0),\n",
    "    'Combination Considerations': (0.0, 3.0),\n",
    "    'Skin Type Adjustments': (0.0, 3.0),\n",
    "    'Age-Specific Considerations': (0.0, 3.0),\n",
    "    'Question': (0.0, 3.0),\n",
    "    'Answer': (0.0, 3.0),\n",
    "    'Category': (0.0, 3.0)\n",
    "}\n"
   ]
  },
  {
   "cell_type": "code",
   "execution_count": 73,
   "id": "28d12ce2",
   "metadata": {},
   "outputs": [],
   "source": [
    "def boosted_search(query, boost_params=None):\n",
    "    \"\"\"Search function with configurable boost parameters\"\"\"\n",
    "    if boost_params is None:\n",
    "        boost_params = {}\n",
    "    \n",
    "    results = index.search(\n",
    "        query=query,\n",
    "        filter_dict={},\n",
    "        boost_dict=boost_params,\n",
    "        num_results=10\n",
    "    )\n",
    "    \n",
    "    return results"
   ]
  },
  {
   "cell_type": "code",
   "execution_count": 74,
   "id": "321cc4f1",
   "metadata": {},
   "outputs": [],
   "source": [
    "def objective(boost_params):\n",
    "    \"\"\"Objective function: MRR on validation set\"\"\"\n",
    "    def search_function(q):\n",
    "        return boosted_search(q, boost_params)\n",
    "    \n",
    "    results = evaluate(val_data, search_function)\n",
    "    return results['mrr']"
   ]
  },
  {
   "cell_type": "code",
   "execution_count": 75,
   "id": "bb646d95",
   "metadata": {},
   "outputs": [
    {
     "name": "stdout",
     "output_type": "stream",
     "text": [
      "Starting optimization...\n",
      "Available keys: ['id', 'question']\n"
     ]
    },
    {
     "data": {
      "application/vnd.jupyter.widget-view+json": {
       "model_id": "0d22245a91db4bf58b75c711d2834d6b",
       "version_major": 2,
       "version_minor": 0
      },
      "text/plain": [
       "Evaluating questions:   0%|          | 0/70 [00:00<?, ?it/s]"
      ]
     },
     "metadata": {},
     "output_type": "display_data"
    },
    {
     "name": "stdout",
     "output_type": "stream",
     "text": [
      "Available keys: ['id', 'question']\n"
     ]
    },
    {
     "data": {
      "application/vnd.jupyter.widget-view+json": {
       "model_id": "d83da569780f4466b7a756b863f4d81d",
       "version_major": 2,
       "version_minor": 0
      },
      "text/plain": [
       "Evaluating questions:   0%|          | 0/70 [00:00<?, ?it/s]"
      ]
     },
     "metadata": {},
     "output_type": "display_data"
    },
    {
     "name": "stdout",
     "output_type": "stream",
     "text": [
      "Available keys: ['id', 'question']\n"
     ]
    },
    {
     "data": {
      "application/vnd.jupyter.widget-view+json": {
       "model_id": "bb1d69c455724692af6f803f64433eb8",
       "version_major": 2,
       "version_minor": 0
      },
      "text/plain": [
       "Evaluating questions:   0%|          | 0/70 [00:00<?, ?it/s]"
      ]
     },
     "metadata": {},
     "output_type": "display_data"
    },
    {
     "name": "stdout",
     "output_type": "stream",
     "text": [
      "Available keys: ['id', 'question']\n"
     ]
    },
    {
     "data": {
      "application/vnd.jupyter.widget-view+json": {
       "model_id": "dd23e94894394f86bb4a8f66944c989a",
       "version_major": 2,
       "version_minor": 0
      },
      "text/plain": [
       "Evaluating questions:   0%|          | 0/70 [00:00<?, ?it/s]"
      ]
     },
     "metadata": {},
     "output_type": "display_data"
    },
    {
     "name": "stdout",
     "output_type": "stream",
     "text": [
      "Available keys: ['id', 'question']\n"
     ]
    },
    {
     "data": {
      "application/vnd.jupyter.widget-view+json": {
       "model_id": "3788eb324fc84caca2c273144067ae95",
       "version_major": 2,
       "version_minor": 0
      },
      "text/plain": [
       "Evaluating questions:   0%|          | 0/70 [00:00<?, ?it/s]"
      ]
     },
     "metadata": {},
     "output_type": "display_data"
    },
    {
     "name": "stdout",
     "output_type": "stream",
     "text": [
      "Available keys: ['id', 'question']\n"
     ]
    },
    {
     "data": {
      "application/vnd.jupyter.widget-view+json": {
       "model_id": "a2b95b1ddc664f719e291fb23779b2a1",
       "version_major": 2,
       "version_minor": 0
      },
      "text/plain": [
       "Evaluating questions:   0%|          | 0/70 [00:00<?, ?it/s]"
      ]
     },
     "metadata": {},
     "output_type": "display_data"
    },
    {
     "name": "stdout",
     "output_type": "stream",
     "text": [
      "Available keys: ['id', 'question']\n"
     ]
    },
    {
     "data": {
      "application/vnd.jupyter.widget-view+json": {
       "model_id": "94c49b7f65d44420bd0c82ada62e9756",
       "version_major": 2,
       "version_minor": 0
      },
      "text/plain": [
       "Evaluating questions:   0%|          | 0/70 [00:00<?, ?it/s]"
      ]
     },
     "metadata": {},
     "output_type": "display_data"
    },
    {
     "name": "stdout",
     "output_type": "stream",
     "text": [
      "Available keys: ['id', 'question']\n"
     ]
    },
    {
     "data": {
      "application/vnd.jupyter.widget-view+json": {
       "model_id": "fd5b527cd7db48aaad1c325d033a36a9",
       "version_major": 2,
       "version_minor": 0
      },
      "text/plain": [
       "Evaluating questions:   0%|          | 0/70 [00:00<?, ?it/s]"
      ]
     },
     "metadata": {},
     "output_type": "display_data"
    },
    {
     "name": "stdout",
     "output_type": "stream",
     "text": [
      "Available keys: ['id', 'question']\n"
     ]
    },
    {
     "data": {
      "application/vnd.jupyter.widget-view+json": {
       "model_id": "34dc75941f1149c29e1ae353742b3da9",
       "version_major": 2,
       "version_minor": 0
      },
      "text/plain": [
       "Evaluating questions:   0%|          | 0/70 [00:00<?, ?it/s]"
      ]
     },
     "metadata": {},
     "output_type": "display_data"
    },
    {
     "name": "stdout",
     "output_type": "stream",
     "text": [
      "Available keys: ['id', 'question']\n"
     ]
    },
    {
     "data": {
      "application/vnd.jupyter.widget-view+json": {
       "model_id": "987e6035466a4dbab8eec2f0664077f9",
       "version_major": 2,
       "version_minor": 0
      },
      "text/plain": [
       "Evaluating questions:   0%|          | 0/70 [00:00<?, ?it/s]"
      ]
     },
     "metadata": {},
     "output_type": "display_data"
    },
    {
     "name": "stdout",
     "output_type": "stream",
     "text": [
      "Available keys: ['id', 'question']\n"
     ]
    },
    {
     "data": {
      "application/vnd.jupyter.widget-view+json": {
       "model_id": "b58f17c8e9e0409282686a05b7e8ed18",
       "version_major": 2,
       "version_minor": 0
      },
      "text/plain": [
       "Evaluating questions:   0%|          | 0/70 [00:00<?, ?it/s]"
      ]
     },
     "metadata": {},
     "output_type": "display_data"
    },
    {
     "name": "stdout",
     "output_type": "stream",
     "text": [
      "Available keys: ['id', 'question']\n"
     ]
    },
    {
     "data": {
      "application/vnd.jupyter.widget-view+json": {
       "model_id": "af843e802681447fb03cb91b102e8dae",
       "version_major": 2,
       "version_minor": 0
      },
      "text/plain": [
       "Evaluating questions:   0%|          | 0/70 [00:00<?, ?it/s]"
      ]
     },
     "metadata": {},
     "output_type": "display_data"
    },
    {
     "name": "stdout",
     "output_type": "stream",
     "text": [
      "Available keys: ['id', 'question']\n"
     ]
    },
    {
     "data": {
      "application/vnd.jupyter.widget-view+json": {
       "model_id": "f9477fd96d264e348b1faf4c622cf239",
       "version_major": 2,
       "version_minor": 0
      },
      "text/plain": [
       "Evaluating questions:   0%|          | 0/70 [00:00<?, ?it/s]"
      ]
     },
     "metadata": {},
     "output_type": "display_data"
    },
    {
     "name": "stdout",
     "output_type": "stream",
     "text": [
      "Available keys: ['id', 'question']\n"
     ]
    },
    {
     "data": {
      "application/vnd.jupyter.widget-view+json": {
       "model_id": "3033c4a8e02c410ab210047e90275808",
       "version_major": 2,
       "version_minor": 0
      },
      "text/plain": [
       "Evaluating questions:   0%|          | 0/70 [00:00<?, ?it/s]"
      ]
     },
     "metadata": {},
     "output_type": "display_data"
    },
    {
     "name": "stdout",
     "output_type": "stream",
     "text": [
      "Available keys: ['id', 'question']\n"
     ]
    },
    {
     "data": {
      "application/vnd.jupyter.widget-view+json": {
       "model_id": "cbf76617d0f04011a893cbcfffd5b36c",
       "version_major": 2,
       "version_minor": 0
      },
      "text/plain": [
       "Evaluating questions:   0%|          | 0/70 [00:00<?, ?it/s]"
      ]
     },
     "metadata": {},
     "output_type": "display_data"
    },
    {
     "name": "stdout",
     "output_type": "stream",
     "text": [
      "Available keys: ['id', 'question']\n"
     ]
    },
    {
     "data": {
      "application/vnd.jupyter.widget-view+json": {
       "model_id": "e822d23113f54864a930e7385e9d2989",
       "version_major": 2,
       "version_minor": 0
      },
      "text/plain": [
       "Evaluating questions:   0%|          | 0/70 [00:00<?, ?it/s]"
      ]
     },
     "metadata": {},
     "output_type": "display_data"
    },
    {
     "name": "stdout",
     "output_type": "stream",
     "text": [
      "Available keys: ['id', 'question']\n"
     ]
    },
    {
     "data": {
      "application/vnd.jupyter.widget-view+json": {
       "model_id": "54ead1783bac47c7a9b0eec4e63fe18f",
       "version_major": 2,
       "version_minor": 0
      },
      "text/plain": [
       "Evaluating questions:   0%|          | 0/70 [00:00<?, ?it/s]"
      ]
     },
     "metadata": {},
     "output_type": "display_data"
    },
    {
     "name": "stdout",
     "output_type": "stream",
     "text": [
      "Available keys: ['id', 'question']\n"
     ]
    },
    {
     "data": {
      "application/vnd.jupyter.widget-view+json": {
       "model_id": "8be978873bba4044909c5b39dc571b84",
       "version_major": 2,
       "version_minor": 0
      },
      "text/plain": [
       "Evaluating questions:   0%|          | 0/70 [00:00<?, ?it/s]"
      ]
     },
     "metadata": {},
     "output_type": "display_data"
    },
    {
     "name": "stdout",
     "output_type": "stream",
     "text": [
      "Available keys: ['id', 'question']\n"
     ]
    },
    {
     "data": {
      "application/vnd.jupyter.widget-view+json": {
       "model_id": "44333523ac4b47ecb5836ba586c7370b",
       "version_major": 2,
       "version_minor": 0
      },
      "text/plain": [
       "Evaluating questions:   0%|          | 0/70 [00:00<?, ?it/s]"
      ]
     },
     "metadata": {},
     "output_type": "display_data"
    },
    {
     "name": "stdout",
     "output_type": "stream",
     "text": [
      "Available keys: ['id', 'question']\n"
     ]
    },
    {
     "data": {
      "application/vnd.jupyter.widget-view+json": {
       "model_id": "3627bb11aef946d6abeb0d0727d02081",
       "version_major": 2,
       "version_minor": 0
      },
      "text/plain": [
       "Evaluating questions:   0%|          | 0/70 [00:00<?, ?it/s]"
      ]
     },
     "metadata": {},
     "output_type": "display_data"
    },
    {
     "name": "stdout",
     "output_type": "stream",
     "text": [
      "Best MRR score: 0.6458276643990931\n",
      "Best parameters:\n",
      "  Acne Type: 1.92\n",
      "  Description: 0.08\n",
      "  Common Locations: 0.83\n",
      "  Common Causes: 0.67\n",
      "  Initial Treatment: 2.21\n",
      "  OTC Ingredients: 2.03\n",
      "  Skincare Recommendations: 2.68\n",
      "  Skincare Ingredients to Avoid: 0.26\n",
      "  When to Consult Dermatologist: 1.27\n",
      "  Expected Timeline: 0.09\n",
      "  Combination Considerations: 0.66\n",
      "  Skin Type Adjustments: 1.52\n",
      "  Age-Specific Considerations: 0.08\n",
      "  Question: 0.60\n",
      "  Answer: 1.95\n",
      "  Category: 1.63\n"
     ]
    }
   ],
   "source": [
    "print(\"Starting optimization...\")\n",
    "best_params, best_score = simple_optimize(param_ranges, objective, n_iterations=20)\n",
    "print(f\"Best MRR score: {best_score}\")\n",
    "print(\"Best parameters:\")\n",
    "for field, value in best_params.items():\n",
    "    print(f\"  {field}: {value:.2f}\")"
   ]
  },
  {
   "cell_type": "code",
   "execution_count": 76,
   "id": "128394a7",
   "metadata": {},
   "outputs": [],
   "source": [
    "def improved_search(query):\n",
    "    \"\"\"Search function with optimized boost parameters\"\"\"\n",
    "    boost = best_params\n",
    "    \n",
    "    results = index.search(\n",
    "        query=query,\n",
    "        filter_dict={},\n",
    "        boost_dict=boost,\n",
    "        num_results=10\n",
    "    )\n",
    "    \n",
    "    return results"
   ]
  },
  {
   "cell_type": "code",
   "execution_count": 77,
   "id": "11878f26",
   "metadata": {},
   "outputs": [
    {
     "name": "stdout",
     "output_type": "stream",
     "text": [
      "Evaluating on test data...\n",
      "Available keys: ['id', 'question']\n"
     ]
    },
    {
     "data": {
      "application/vnd.jupyter.widget-view+json": {
       "model_id": "133830cc2b064bba8fe83203ac63b84d",
       "version_major": 2,
       "version_minor": 0
      },
      "text/plain": [
       "Evaluating questions:   0%|          | 0/70 [00:00<?, ?it/s]"
      ]
     },
     "metadata": {},
     "output_type": "display_data"
    },
    {
     "name": "stdout",
     "output_type": "stream",
     "text": [
      "Available keys: ['id', 'question']\n"
     ]
    },
    {
     "data": {
      "application/vnd.jupyter.widget-view+json": {
       "model_id": "fd99c792844d40968335858b03b01e47",
       "version_major": 2,
       "version_minor": 0
      },
      "text/plain": [
       "Evaluating questions:   0%|          | 0/70 [00:00<?, ?it/s]"
      ]
     },
     "metadata": {},
     "output_type": "display_data"
    },
    {
     "name": "stdout",
     "output_type": "stream",
     "text": [
      "Baseline results: {'hit_rate': 0.7, 'mrr': 0.25566326530612243}\n",
      "Improved results: {'hit_rate': 0.8142857142857143, 'mrr': 0.31752834467120167}\n",
      "MRR improvement: 24.2%\n",
      "Hit rate improvement: 16.3%\n"
     ]
    }
   ],
   "source": [
    "# Compare baseline search vs improved search on test data\n",
    "print(\"Evaluating on test data...\")\n",
    "baseline_test_results = evaluate(test_data, lambda q: search(q))\n",
    "improved_test_results = evaluate(test_data, lambda q: improved_search(q))\n",
    "\n",
    "print(f\"Baseline results: {baseline_test_results}\")\n",
    "print(f\"Improved results: {improved_test_results}\")\n",
    "\n",
    "# Calculate relative improvement\n",
    "mrr_improvement = ((improved_test_results['mrr'] - baseline_test_results['mrr']) / \n",
    "                  baseline_test_results['mrr']) * 100\n",
    "hit_improvement = ((improved_test_results['hit_rate'] - baseline_test_results['hit_rate']) / \n",
    "                   baseline_test_results['hit_rate']) * 100\n",
    "\n",
    "print(f\"MRR improvement: {mrr_improvement:.1f}%\")\n",
    "print(f\"Hit rate improvement: {hit_improvement:.1f}%\")"
   ]
  },
  {
   "cell_type": "markdown",
   "id": "78d524c3",
   "metadata": {},
   "source": [
    "# Optuna Tuning"
   ]
  },
  {
   "cell_type": "code",
   "execution_count": 78,
   "id": "f916c5e5",
   "metadata": {},
   "outputs": [],
   "source": [
    "import optuna"
   ]
  },
  {
   "cell_type": "code",
   "execution_count": 79,
   "id": "408d8d28",
   "metadata": {},
   "outputs": [],
   "source": [
    "def optimize_with_optuna(n_trials=30):\n",
    "    \"\"\"Use Optuna to find optimal boost parameters\"\"\"\n",
    "    \n",
    "    def objective(trial):\n",
    "        # Define the parameters to optimize\n",
    "        boost_params = {\n",
    "            'Acne Type': trial.suggest_float('Acne Type', 0.0, 3.0),\n",
    "            'Description': trial.suggest_float('Description', 0.0, 3.0),\n",
    "            'Common Locations': trial.suggest_float('Common Locations', 0.0, 3.0),\n",
    "            'Common Causes': trial.suggest_float('Common Causes', 0.0, 3.0),\n",
    "            'Initial Treatment': trial.suggest_float('Initial Treatment', 0.0, 3.0),\n",
    "            'OTC Ingredients': trial.suggest_float('OTC Ingredients', 0.0, 3.0),\n",
    "            'Skincare Recommendations': trial.suggest_float('Skincare Recommendations', 0.0, 3.0),\n",
    "            'Skincare Ingredients to Avoid': trial.suggest_float('Skincare Ingredients to Avoid', 0.0, 3.0),\n",
    "            'When to Consult Dermatologist': trial.suggest_float('When to Consult Dermatologist', 0.0, 3.0),\n",
    "            'Expected Timeline': trial.suggest_float('Expected Timeline', 0.0, 3.0),\n",
    "            'Combination Considerations': trial.suggest_float('Combination Considerations', 0.0, 3.0),\n",
    "            'Skin Type Adjustments': trial.suggest_float('Skin Type Adjustments', 0.0, 3.0),\n",
    "            'Age-Specific Considerations': trial.suggest_float('Age-Specific Considerations', 0.0, 3.0),\n",
    "            'Question': trial.suggest_float('Question', 0.0, 3.0),\n",
    "            'Answer': trial.suggest_float('Answer', 0.0, 3.0),\n",
    "            'Category': trial.suggest_float('Category', 0.0, 3.0)\n",
    "        }\n",
    "        \n",
    "        # Define the search function\n",
    "        def search_function(q):\n",
    "            return boosted_search(q, boost_params)\n",
    "        \n",
    "        # Evaluate and return MRR score\n",
    "        results = evaluate(val_data, search_function)\n",
    "        return results['mrr']\n",
    "    \n",
    "    # Create a study that maximizes the objective\n",
    "    study = optuna.create_study(direction='maximize', \n",
    "                                sampler=optuna.samplers.TPESampler(seed=42))\n",
    "    \n",
    "    # Start the optimization\n",
    "    study.optimize(objective, n_trials=n_trials)\n",
    "    \n",
    "    return study"
   ]
  },
  {
   "cell_type": "code",
   "execution_count": 80,
   "id": "e21424d2",
   "metadata": {},
   "outputs": [
    {
     "name": "stderr",
     "output_type": "stream",
     "text": [
      "[I 2025-05-19 21:55:16,938] A new study created in memory with name: no-name-fb8d6283-b872-4f6d-83e2-e6e6d95f0ff1\n"
     ]
    },
    {
     "name": "stdout",
     "output_type": "stream",
     "text": [
      "Starting Optuna optimization...\n",
      "Available keys: ['id', 'question']\n"
     ]
    },
    {
     "data": {
      "application/vnd.jupyter.widget-view+json": {
       "model_id": "03464a1a4a1b4ad0acdaa945df53a6bb",
       "version_major": 2,
       "version_minor": 0
      },
      "text/plain": [
       "Evaluating questions:   0%|          | 0/70 [00:00<?, ?it/s]"
      ]
     },
     "metadata": {},
     "output_type": "display_data"
    },
    {
     "name": "stderr",
     "output_type": "stream",
     "text": [
      "[I 2025-05-19 21:55:17,378] Trial 0 finished with value: 0.45251133786848075 and parameters: {'Acne Type': 1.1236203565420875, 'Description': 2.8521429192297485, 'Common Locations': 2.1959818254342154, 'Common Causes': 1.7959754525911098, 'Initial Treatment': 0.46805592132730955, 'OTC Ingredients': 0.46798356100860794, 'Skincare Recommendations': 0.17425083650459838, 'Skincare Ingredients to Avoid': 2.5985284373248057, 'When to Consult Dermatologist': 1.8033450352296265, 'Expected Timeline': 2.1242177333881367, 'Combination Considerations': 0.06175348288740734, 'Skin Type Adjustments': 2.909729556485983, 'Age-Specific Considerations': 2.497327922401265, 'Question': 0.6370173320348285, 'Answer': 0.5454749016213019, 'Category': 0.5502135295603015}. Best is trial 0 with value: 0.45251133786848075.\n"
     ]
    },
    {
     "name": "stdout",
     "output_type": "stream",
     "text": [
      "Available keys: ['id', 'question']\n"
     ]
    },
    {
     "data": {
      "application/vnd.jupyter.widget-view+json": {
       "model_id": "0cf32da14534487c821b227dd1f61921",
       "version_major": 2,
       "version_minor": 0
      },
      "text/plain": [
       "Evaluating questions:   0%|          | 0/70 [00:00<?, ?it/s]"
      ]
     },
     "metadata": {},
     "output_type": "display_data"
    },
    {
     "name": "stderr",
     "output_type": "stream",
     "text": [
      "[I 2025-05-19 21:55:17,814] Trial 1 finished with value: 0.4936791383219955 and parameters: {'Acne Type': 0.9127267288786132, 'Description': 1.5742692948967134, 'Common Locations': 1.2958350559263474, 'Common Causes': 0.8736874205941257, 'Initial Treatment': 1.8355586841671383, 'OTC Ingredients': 0.4184815819561255, 'Skincare Recommendations': 0.8764339456056545, 'Skincare Ingredients to Avoid': 1.099085529881075, 'When to Consult Dermatologist': 1.3682099526511078, 'Expected Timeline': 2.3555278841790406, 'Combination Considerations': 0.5990213464750792, 'Skin Type Adjustments': 1.5427033152408347, 'Age-Specific Considerations': 1.7772437065861273, 'Question': 0.13935123815999317, 'Answer': 1.822634555704315, 'Category': 0.5115723710618746}. Best is trial 1 with value: 0.4936791383219955.\n"
     ]
    },
    {
     "name": "stdout",
     "output_type": "stream",
     "text": [
      "Available keys: ['id', 'question']\n"
     ]
    },
    {
     "data": {
      "application/vnd.jupyter.widget-view+json": {
       "model_id": "85731a98050b42289c5746cbc4deb7ab",
       "version_major": 2,
       "version_minor": 0
      },
      "text/plain": [
       "Evaluating questions:   0%|          | 0/70 [00:00<?, ?it/s]"
      ]
     },
     "metadata": {},
     "output_type": "display_data"
    },
    {
     "name": "stderr",
     "output_type": "stream",
     "text": [
      "[I 2025-05-19 21:55:18,267] Trial 2 finished with value: 0.29789115646258507 and parameters: {'Acne Type': 0.19515477895583855, 'Description': 2.84665661176, 'Common Locations': 2.896896099223678, 'Common Causes': 2.4251920443493833, 'Initial Treatment': 0.9138413075201121, 'OTC Ingredients': 0.2930163420191516, 'Skincare Recommendations': 2.052699079536471, 'Skincare Ingredients to Avoid': 1.320457481218804, 'When to Consult Dermatologist': 0.3661147045343365, 'Expected Timeline': 1.4855307303338106, 'Combination Considerations': 0.10316556334565519, 'Skin Type Adjustments': 2.7279612062363463, 'Age-Specific Considerations': 0.7763399448000508, 'Question': 1.987566853061946, 'Answer': 0.9351332282682329, 'Category': 1.5602040635334324}. Best is trial 1 with value: 0.4936791383219955.\n"
     ]
    },
    {
     "name": "stdout",
     "output_type": "stream",
     "text": [
      "Available keys: ['id', 'question']\n"
     ]
    },
    {
     "data": {
      "application/vnd.jupyter.widget-view+json": {
       "model_id": "63478d30e2c042f0b146bcc1efb171bd",
       "version_major": 2,
       "version_minor": 0
      },
      "text/plain": [
       "Evaluating questions:   0%|          | 0/70 [00:00<?, ?it/s]"
      ]
     },
     "metadata": {},
     "output_type": "display_data"
    },
    {
     "name": "stderr",
     "output_type": "stream",
     "text": [
      "[I 2025-05-19 21:55:18,697] Trial 3 finished with value: 0.506700680272109 and parameters: {'Acne Type': 1.640130838029839, 'Description': 0.5545633665765811, 'Common Locations': 2.9087538832936755, 'Common Causes': 2.3253984700833437, 'Initial Treatment': 2.8184968246925672, 'OTC Ingredients': 2.6844820512829464, 'Skincare Recommendations': 1.7936999364332555, 'Skincare Ingredients to Avoid': 2.7656227050693505, 'When to Consult Dermatologist': 0.2654775061557585, 'Expected Timeline': 0.5879485872574356, 'Combination Considerations': 0.1356818667316142, 'Skin Type Adjustments': 0.975990992289793, 'Age-Specific Considerations': 1.166031869068446, 'Question': 0.8140470953216877, 'Answer': 2.486212527455788, 'Category': 1.0702599800807677}. Best is trial 3 with value: 0.506700680272109.\n"
     ]
    },
    {
     "name": "stdout",
     "output_type": "stream",
     "text": [
      "Available keys: ['id', 'question']\n"
     ]
    },
    {
     "data": {
      "application/vnd.jupyter.widget-view+json": {
       "model_id": "4141d857ac934515983931b14e6cc99e",
       "version_major": 2,
       "version_minor": 0
      },
      "text/plain": [
       "Evaluating questions:   0%|          | 0/70 [00:00<?, ?it/s]"
      ]
     },
     "metadata": {},
     "output_type": "display_data"
    },
    {
     "name": "stderr",
     "output_type": "stream",
     "text": [
      "[I 2025-05-19 21:55:19,130] Trial 4 finished with value: 0.42946145124716556 and parameters: {'Acne Type': 0.8428035290621423, 'Description': 1.6280882494747453, 'Common Locations': 0.42277267492428794, 'Common Causes': 2.406590942262119, 'Initial Treatment': 0.22365193103931247, 'OTC Ingredients': 2.960660809801552, 'Skincare Recommendations': 2.3167343078899725, 'Skincare Ingredients to Avoid': 0.5961470446025172, 'When to Consult Dermatologist': 0.016566351370807197, 'Expected Timeline': 2.4463842853645024, 'Combination Considerations': 2.120572031542851, 'Skin Type Adjustments': 2.1870215041229617, 'Age-Specific Considerations': 2.3138110400578373, 'Question': 0.22213395520227108, 'Answer': 1.0753971856328177, 'Category': 0.34760717857538914}. Best is trial 3 with value: 0.506700680272109.\n"
     ]
    },
    {
     "name": "stdout",
     "output_type": "stream",
     "text": [
      "Available keys: ['id', 'question']\n"
     ]
    },
    {
     "data": {
      "application/vnd.jupyter.widget-view+json": {
       "model_id": "8dcd579dd994444d87259c0570946033",
       "version_major": 2,
       "version_minor": 0
      },
      "text/plain": [
       "Evaluating questions:   0%|          | 0/70 [00:00<?, ?it/s]"
      ]
     },
     "metadata": {},
     "output_type": "display_data"
    },
    {
     "name": "stderr",
     "output_type": "stream",
     "text": [
      "[I 2025-05-19 21:55:19,563] Trial 5 finished with value: 0.6485260770975058 and parameters: {'Acne Type': 2.5893102776267805, 'Description': 1.8698943804826738, 'Common Locations': 0.9926940745579476, 'Common Causes': 0.1906750508580709, 'Initial Treatment': 0.9329469651469866, 'OTC Ingredients': 0.9755499660802411, 'Skincare Recommendations': 2.1888185350141924, 'Skincare Ingredients to Avoid': 1.9126724140656393, 'When to Consult Dermatologist': 2.6616382277289796, 'Expected Timeline': 1.4166447754858478, 'Combination Considerations': 0.3587827378149051, 'Skin Type Adjustments': 2.1397343616689852, 'Age-Specific Considerations': 2.2823551458506923, 'Question': 1.6838315927084886, 'Answer': 2.3129015398636827, 'Category': 1.4813867890931722}. Best is trial 5 with value: 0.6485260770975058.\n"
     ]
    },
    {
     "name": "stdout",
     "output_type": "stream",
     "text": [
      "Available keys: ['id', 'question']\n"
     ]
    },
    {
     "data": {
      "application/vnd.jupyter.widget-view+json": {
       "model_id": "fa0165fb49ae4f3aa4cd8d39727ebd1f",
       "version_major": 2,
       "version_minor": 0
      },
      "text/plain": [
       "Evaluating questions:   0%|          | 0/70 [00:00<?, ?it/s]"
      ]
     },
     "metadata": {},
     "output_type": "display_data"
    },
    {
     "name": "stderr",
     "output_type": "stream",
     "text": [
      "[I 2025-05-19 21:55:19,998] Trial 6 finished with value: 0.6187698412698412 and parameters: {'Acne Type': 1.568198488145982, 'Description': 1.282623055075649, 'Common Locations': 0.07625738023228557, 'Common Causes': 0.32367428097991335, 'Initial Treatment': 0.09428755706020275, 'OTC Ingredients': 1.909231233791341, 'Skincare Recommendations': 0.94306794322898, 'Skincare Ingredients to Avoid': 1.5257120734941083, 'When to Consult Dermatologist': 2.722699421778279, 'Expected Timeline': 0.7478766874466248, 'Combination Considerations': 1.2311487691068892, 'Skin Type Adjustments': 2.266653415629146, 'Age-Specific Considerations': 0.6863944964748674, 'Question': 0.23093972948637898, 'Answer': 0.8692543587413041, 'Category': 0.48366386176201326}. Best is trial 5 with value: 0.6485260770975058.\n"
     ]
    },
    {
     "name": "stdout",
     "output_type": "stream",
     "text": [
      "Available keys: ['id', 'question']\n"
     ]
    },
    {
     "data": {
      "application/vnd.jupyter.widget-view+json": {
       "model_id": "0556aeedbde3441d93e4d8ea9384e492",
       "version_major": 2,
       "version_minor": 0
      },
      "text/plain": [
       "Evaluating questions:   0%|          | 0/70 [00:00<?, ?it/s]"
      ]
     },
     "metadata": {},
     "output_type": "display_data"
    },
    {
     "name": "stderr",
     "output_type": "stream",
     "text": [
      "[I 2025-05-19 21:55:20,435] Trial 7 finished with value: 0.63921768707483 and parameters: {'Acne Type': 2.7890929570277194, 'Description': 2.424361138693251, 'Common Locations': 1.9002112695312703, 'Common Causes': 2.614381770563153, 'Initial Treatment': 2.4110162306973435, 'OTC Ingredients': 0.5597101766581075, 'Skincare Recommendations': 2.677676995469933, 'Skincare Ingredients to Avoid': 1.6180267257469523, 'When to Consult Dermatologist': 2.4223204654921875, 'Expected Timeline': 2.6882738997704796, 'Combination Considerations': 0.9540104249155916, 'Skin Type Adjustments': 0.3301557735830303, 'Age-Specific Considerations': 0.683805487625825, 'Question': 1.281323365878769, 'Answer': 2.4540442977674792, 'Category': 2.5821917497690303}. Best is trial 5 with value: 0.6485260770975058.\n"
     ]
    },
    {
     "name": "stdout",
     "output_type": "stream",
     "text": [
      "Available keys: ['id', 'question']\n"
     ]
    },
    {
     "data": {
      "application/vnd.jupyter.widget-view+json": {
       "model_id": "29563c6ea4204f418f3de2d8f1ca93e8",
       "version_major": 2,
       "version_minor": 0
      },
      "text/plain": [
       "Evaluating questions:   0%|          | 0/70 [00:00<?, ?it/s]"
      ]
     },
     "metadata": {},
     "output_type": "display_data"
    },
    {
     "name": "stderr",
     "output_type": "stream",
     "text": [
      "[I 2025-05-19 21:55:20,866] Trial 8 finished with value: 0.2832312925170068 and parameters: {'Acne Type': 0.02085639159357211, 'Description': 1.5322419077326972, 'Common Locations': 1.252233009446337, 'Common Causes': 0.6663234314121907, 'Initial Treatment': 0.3595961020010484, 'OTC Ingredients': 1.0128455142108839, 'Skincare Recommendations': 2.8287291117375575, 'Skincare Ingredients to Avoid': 0.9696087960622657, 'When to Consult Dermatologist': 1.5563718652300982, 'Expected Timeline': 2.1090568766855338, 'Combination Considerations': 1.090888807137882, 'Skin Type Adjustments': 2.915346248162882, 'Age-Specific Considerations': 2.8873418848263337, 'Question': 0.7553468874760925, 'Answer': 1.4917455176771564, 'Category': 0.902634929450309}. Best is trial 5 with value: 0.6485260770975058.\n"
     ]
    },
    {
     "name": "stdout",
     "output_type": "stream",
     "text": [
      "Available keys: ['id', 'question']\n"
     ]
    },
    {
     "data": {
      "application/vnd.jupyter.widget-view+json": {
       "model_id": "3476349753014f00a923cc63e55601e7",
       "version_major": 2,
       "version_minor": 0
      },
      "text/plain": [
       "Evaluating questions:   0%|          | 0/70 [00:00<?, ?it/s]"
      ]
     },
     "metadata": {},
     "output_type": "display_data"
    },
    {
     "name": "stderr",
     "output_type": "stream",
     "text": [
      "[I 2025-05-19 21:55:21,315] Trial 9 finished with value: 0.3243367346938776 and parameters: {'Acne Type': 0.8545214831324028, 'Description': 0.11066084206359839, 'Common Locations': 1.8286930019396905, 'Common Causes': 1.5080370696865844, 'Initial Treatment': 0.15443625374996806, 'OTC Ingredients': 0.8359393927098343, 'Skincare Recommendations': 2.724797657899961, 'Skincare Ingredients to Avoid': 0.7186856720009173, 'When to Consult Dermatologist': 0.4346846162736693, 'Expected Timeline': 1.468358280832689, 'Combination Considerations': 2.956951362331802, 'Skin Type Adjustments': 0.7261658145345012, 'Age-Specific Considerations': 2.0164066422176354, 'Question': 2.284858845986153, 'Answer': 0.712912631977199, 'Category': 2.1846490458355787}. Best is trial 5 with value: 0.6485260770975058.\n"
     ]
    },
    {
     "name": "stdout",
     "output_type": "stream",
     "text": [
      "Available keys: ['id', 'question']\n"
     ]
    },
    {
     "data": {
      "application/vnd.jupyter.widget-view+json": {
       "model_id": "9c9aba43bc7d46ae835354ed1c11ad51",
       "version_major": 2,
       "version_minor": 0
      },
      "text/plain": [
       "Evaluating questions:   0%|          | 0/70 [00:00<?, ?it/s]"
      ]
     },
     "metadata": {},
     "output_type": "display_data"
    },
    {
     "name": "stderr",
     "output_type": "stream",
     "text": [
      "[I 2025-05-19 21:55:21,788] Trial 10 finished with value: 0.6654705215419503 and parameters: {'Acne Type': 2.936368707589074, 'Description': 2.164840024069656, 'Common Locations': 0.791582745275468, 'Common Causes': 0.05388562684445919, 'Initial Treatment': 1.291281361603186, 'OTC Ingredients': 1.6065220333621744, 'Skincare Recommendations': 1.2682539750584236, 'Skincare Ingredients to Avoid': 2.069924419974333, 'When to Consult Dermatologist': 2.9093705152012133, 'Expected Timeline': 0.03693350869481238, 'Combination Considerations': 1.771424068781189, 'Skin Type Adjustments': 1.6755741923378706, 'Age-Specific Considerations': 1.3870337592649364, 'Question': 2.9338116745963254, 'Answer': 2.976492192385895, 'Category': 1.7686555624686506}. Best is trial 10 with value: 0.6654705215419503.\n"
     ]
    },
    {
     "name": "stdout",
     "output_type": "stream",
     "text": [
      "Available keys: ['id', 'question']\n"
     ]
    },
    {
     "data": {
      "application/vnd.jupyter.widget-view+json": {
       "model_id": "2a19461dfda44537b56069ef9ac2b897",
       "version_major": 2,
       "version_minor": 0
      },
      "text/plain": [
       "Evaluating questions:   0%|          | 0/70 [00:00<?, ?it/s]"
      ]
     },
     "metadata": {},
     "output_type": "display_data"
    },
    {
     "name": "stderr",
     "output_type": "stream",
     "text": [
      "[I 2025-05-19 21:55:22,257] Trial 11 finished with value: 0.6649943310657598 and parameters: {'Acne Type': 2.9847460852283687, 'Description': 2.147380289940478, 'Common Locations': 0.800973218836109, 'Common Causes': 0.010949927328783679, 'Initial Treatment': 1.3125987561598202, 'OTC Ingredients': 1.5833366790900962, 'Skincare Recommendations': 1.4061156566635271, 'Skincare Ingredients to Avoid': 2.12622714089156, 'When to Consult Dermatologist': 2.9725403057172444, 'Expected Timeline': 0.10075765480341636, 'Combination Considerations': 1.8518485029671548, 'Skin Type Adjustments': 1.6594972931242864, 'Age-Specific Considerations': 1.304434868768511, 'Question': 2.9454778593900777, 'Answer': 2.9980873159246544, 'Category': 1.754435222955143}. Best is trial 10 with value: 0.6654705215419503.\n"
     ]
    },
    {
     "name": "stdout",
     "output_type": "stream",
     "text": [
      "Available keys: ['id', 'question']\n"
     ]
    },
    {
     "data": {
      "application/vnd.jupyter.widget-view+json": {
       "model_id": "91e4172007874aa68974064639ca41b4",
       "version_major": 2,
       "version_minor": 0
      },
      "text/plain": [
       "Evaluating questions:   0%|          | 0/70 [00:00<?, ?it/s]"
      ]
     },
     "metadata": {},
     "output_type": "display_data"
    },
    {
     "name": "stderr",
     "output_type": "stream",
     "text": [
      "[I 2025-05-19 21:55:22,730] Trial 12 finished with value: 0.6405725623582769 and parameters: {'Acne Type': 2.2738548281586484, 'Description': 2.276652376664465, 'Common Locations': 0.7354998548129261, 'Common Causes': 0.05496755305937079, 'Initial Treatment': 1.6381506214851629, 'OTC Ingredients': 1.7999964533577608, 'Skincare Recommendations': 1.3814492278162172, 'Skincare Ingredients to Avoid': 2.204790092315021, 'When to Consult Dermatologist': 2.9984004220226605, 'Expected Timeline': 0.05574971383971855, 'Combination Considerations': 1.8785536241940166, 'Skin Type Adjustments': 1.3104832431776652, 'Age-Specific Considerations': 1.3569789386328253, 'Question': 2.9584509936760934, 'Answer': 2.991818986309248, 'Category': 1.915442120671387}. Best is trial 10 with value: 0.6654705215419503.\n"
     ]
    },
    {
     "name": "stdout",
     "output_type": "stream",
     "text": [
      "Available keys: ['id', 'question']\n"
     ]
    },
    {
     "data": {
      "application/vnd.jupyter.widget-view+json": {
       "model_id": "4eb34512bde14a2584be423275795fa6",
       "version_major": 2,
       "version_minor": 0
      },
      "text/plain": [
       "Evaluating questions:   0%|          | 0/70 [00:00<?, ?it/s]"
      ]
     },
     "metadata": {},
     "output_type": "display_data"
    },
    {
     "name": "stderr",
     "output_type": "stream",
     "text": [
      "[I 2025-05-19 21:55:23,192] Trial 13 finished with value: 0.6584240362811792 and parameters: {'Acne Type': 2.2672801283375374, 'Description': 2.194580274939748, 'Common Locations': 0.5919356132550717, 'Common Causes': 0.8902660901557136, 'Initial Treatment': 1.0835097314503113, 'OTC Ingredients': 1.4809098611957914, 'Skincare Recommendations': 1.2901263128155709, 'Skincare Ingredients to Avoid': 0.06274069945021132, 'When to Consult Dermatologist': 2.2089304482241956, 'Expected Timeline': 0.014046475117597934, 'Combination Considerations': 1.8879859980894467, 'Skin Type Adjustments': 1.6467705468886835, 'Age-Specific Considerations': 0.011747739986945893, 'Question': 2.9615394580463374, 'Answer': 0.03953764314277053, 'Category': 2.818332875188797}. Best is trial 10 with value: 0.6654705215419503.\n"
     ]
    },
    {
     "name": "stdout",
     "output_type": "stream",
     "text": [
      "Available keys: ['id', 'question']\n"
     ]
    },
    {
     "data": {
      "application/vnd.jupyter.widget-view+json": {
       "model_id": "0500ef1b2e694959ac3d825b51eacb21",
       "version_major": 2,
       "version_minor": 0
      },
      "text/plain": [
       "Evaluating questions:   0%|          | 0/70 [00:00<?, ?it/s]"
      ]
     },
     "metadata": {},
     "output_type": "display_data"
    },
    {
     "name": "stderr",
     "output_type": "stream",
     "text": [
      "[I 2025-05-19 21:55:23,656] Trial 14 finished with value: 0.6431519274376418 and parameters: {'Acne Type': 2.958818886046117, 'Description': 0.9671730559929563, 'Common Locations': 0.24502265915131205, 'Common Causes': 0.41777356874168353, 'Initial Treatment': 1.953026497766552, 'OTC Ingredients': 2.0858761823255367, 'Skincare Recommendations': 0.44106373457650316, 'Skincare Ingredients to Avoid': 2.2605510349870777, 'When to Consult Dermatologist': 2.997326405368211, 'Expected Timeline': 0.5987758910382622, 'Combination Considerations': 2.501095126930382, 'Skin Type Adjustments': 1.8807558614440338, 'Age-Specific Considerations': 1.660600193957384, 'Question': 2.480601932897512, 'Answer': 2.9651587388761556, 'Category': 2.0512049273685715}. Best is trial 10 with value: 0.6654705215419503.\n"
     ]
    },
    {
     "name": "stdout",
     "output_type": "stream",
     "text": [
      "Available keys: ['id', 'question']\n"
     ]
    },
    {
     "data": {
      "application/vnd.jupyter.widget-view+json": {
       "model_id": "adacb523effd4112b51463385623d5bb",
       "version_major": 2,
       "version_minor": 0
      },
      "text/plain": [
       "Evaluating questions:   0%|          | 0/70 [00:00<?, ?it/s]"
      ]
     },
     "metadata": {},
     "output_type": "display_data"
    },
    {
     "name": "stderr",
     "output_type": "stream",
     "text": [
      "[I 2025-05-19 21:55:24,126] Trial 15 finished with value: 0.6279024943310659 and parameters: {'Acne Type': 2.329752449242664, 'Description': 1.9949071904781357, 'Common Locations': 1.0072514881784076, 'Common Causes': 1.2028987129567483, 'Initial Treatment': 1.2955733579990312, 'OTC Ingredients': 1.5724874676982958, 'Skincare Recommendations': 0.9642134667550557, 'Skincare Ingredients to Avoid': 2.0408138195278287, 'When to Consult Dermatologist': 2.0693012708431624, 'Expected Timeline': 1.0462904061966198, 'Combination Considerations': 1.5784419349259837, 'Skin Type Adjustments': 1.1598873971669634, 'Age-Specific Considerations': 1.0987888622826607, 'Question': 2.5485156377859197, 'Answer': 1.9884379997182098, 'Category': 1.4823895028263423}. Best is trial 10 with value: 0.6654705215419503.\n"
     ]
    },
    {
     "name": "stdout",
     "output_type": "stream",
     "text": [
      "Available keys: ['id', 'question']\n"
     ]
    },
    {
     "data": {
      "application/vnd.jupyter.widget-view+json": {
       "model_id": "08845d7c26a445d89b61c67984616357",
       "version_major": 2,
       "version_minor": 0
      },
      "text/plain": [
       "Evaluating questions:   0%|          | 0/70 [00:00<?, ?it/s]"
      ]
     },
     "metadata": {},
     "output_type": "display_data"
    },
    {
     "name": "stderr",
     "output_type": "stream",
     "text": [
      "[I 2025-05-19 21:55:24,596] Trial 16 finished with value: 0.5823526077097507 and parameters: {'Acne Type': 1.876749416237609, 'Description': 2.491587175298849, 'Common Locations': 0.8218668167631161, 'Common Causes': 0.0019507329621055725, 'Initial Treatment': 2.1957508283486424, 'OTC Ingredients': 2.378984398607914, 'Skincare Recommendations': 1.7556358177139957, 'Skincare Ingredients to Avoid': 2.930106975100787, 'When to Consult Dermatologist': 0.9375149202963204, 'Expected Timeline': 0.23336552142530936, 'Combination Considerations': 2.4303835058046284, 'Skin Type Adjustments': 1.8475736857484755, 'Age-Specific Considerations': 0.1878986087686112, 'Question': 2.7799012227003534, 'Answer': 2.6628242670728888, 'Category': 2.3581920975071036}. Best is trial 10 with value: 0.6654705215419503.\n"
     ]
    },
    {
     "name": "stdout",
     "output_type": "stream",
     "text": [
      "Available keys: ['id', 'question']\n"
     ]
    },
    {
     "data": {
      "application/vnd.jupyter.widget-view+json": {
       "model_id": "2bb732614f5b4c8a8b6c05c01e5235b2",
       "version_major": 2,
       "version_minor": 0
      },
      "text/plain": [
       "Evaluating questions:   0%|          | 0/70 [00:00<?, ?it/s]"
      ]
     },
     "metadata": {},
     "output_type": "display_data"
    },
    {
     "name": "stderr",
     "output_type": "stream",
     "text": [
      "[I 2025-05-19 21:55:25,093] Trial 17 finished with value: 0.6413208616780045 and parameters: {'Acne Type': 2.976027976142453, 'Description': 1.1150411465477468, 'Common Locations': 1.5285869535329517, 'Common Causes': 2.9924094854429213, 'Initial Treatment': 1.5152265641173044, 'OTC Ingredients': 1.3211114671459918, 'Skincare Recommendations': 0.4930309575785081, 'Skincare Ingredients to Avoid': 2.492252844164616, 'When to Consult Dermatologist': 2.4872526150854677, 'Expected Timeline': 0.4171083843983547, 'Combination Considerations': 1.4780203284223226, 'Skin Type Adjustments': 0.6451997212892933, 'Age-Specific Considerations': 1.469927020544802, 'Question': 2.0657439948939786, 'Answer': 2.0505638412554044, 'Category': 1.7471833571472868}. Best is trial 10 with value: 0.6654705215419503.\n"
     ]
    },
    {
     "name": "stdout",
     "output_type": "stream",
     "text": [
      "Available keys: ['id', 'question']\n"
     ]
    },
    {
     "data": {
      "application/vnd.jupyter.widget-view+json": {
       "model_id": "19d8a370b5bf4c94a5cc6bac71a54d39",
       "version_major": 2,
       "version_minor": 0
      },
      "text/plain": [
       "Evaluating questions:   0%|          | 0/70 [00:00<?, ?it/s]"
      ]
     },
     "metadata": {},
     "output_type": "display_data"
    },
    {
     "name": "stderr",
     "output_type": "stream",
     "text": [
      "[I 2025-05-19 21:55:25,559] Trial 18 finished with value: 0.6038038548752835 and parameters: {'Acne Type': 2.52012659653753, 'Description': 2.6279343391922767, 'Common Locations': 0.4281310496335391, 'Common Causes': 0.5560821668493483, 'Initial Treatment': 0.7630549270522543, 'OTC Ingredients': 2.2623804020376213, 'Skincare Recommendations': 1.609795910827248, 'Skincare Ingredients to Avoid': 2.37340534366806, 'When to Consult Dermatologist': 1.0845792802222378, 'Expected Timeline': 1.0308691982093028, 'Combination Considerations': 2.247775696324659, 'Skin Type Adjustments': 2.51875083914325, 'Age-Specific Considerations': 0.9393338243853441, 'Question': 1.4341865383509889, 'Answer': 2.711570123770288, 'Category': 1.1290395090166392}. Best is trial 10 with value: 0.6654705215419503.\n"
     ]
    },
    {
     "name": "stdout",
     "output_type": "stream",
     "text": [
      "Available keys: ['id', 'question']\n"
     ]
    },
    {
     "data": {
      "application/vnd.jupyter.widget-view+json": {
       "model_id": "69eb508187244e5e969ee56d42d6b9a3",
       "version_major": 2,
       "version_minor": 0
      },
      "text/plain": [
       "Evaluating questions:   0%|          | 0/70 [00:00<?, ?it/s]"
      ]
     },
     "metadata": {},
     "output_type": "display_data"
    },
    {
     "name": "stderr",
     "output_type": "stream",
     "text": [
      "[I 2025-05-19 21:55:26,028] Trial 19 finished with value: 0.6086961451247168 and parameters: {'Acne Type': 2.047633783438291, 'Description': 1.9799171026584843, 'Common Locations': 1.57849155712328, 'Common Causes': 1.84221273067024, 'Initial Treatment': 1.2509964168077512, 'OTC Ingredients': 1.1534667529595697, 'Skincare Recommendations': 1.1647431650001767, 'Skincare Ingredients to Avoid': 1.9782015768843537, 'When to Consult Dermatologist': 2.010325634616204, 'Expected Timeline': 1.0009512139478143, 'Combination Considerations': 1.6775867023003919, 'Skin Type Adjustments': 1.346566865989131, 'Age-Specific Considerations': 0.4275588983547701, 'Question': 2.5677231757974828, 'Answer': 1.5386863960345858, 'Category': 2.4793404289902634}. Best is trial 10 with value: 0.6654705215419503.\n"
     ]
    },
    {
     "name": "stdout",
     "output_type": "stream",
     "text": [
      "Available keys: ['id', 'question']\n"
     ]
    },
    {
     "data": {
      "application/vnd.jupyter.widget-view+json": {
       "model_id": "fbfb000e75814d86a83058fb07d07354",
       "version_major": 2,
       "version_minor": 0
      },
      "text/plain": [
       "Evaluating questions:   0%|          | 0/70 [00:00<?, ?it/s]"
      ]
     },
     "metadata": {},
     "output_type": "display_data"
    },
    {
     "name": "stderr",
     "output_type": "stream",
     "text": [
      "[I 2025-05-19 21:55:26,503] Trial 20 finished with value: 0.6585260770975059 and parameters: {'Acne Type': 2.6911779499606405, 'Description': 1.8284804106224852, 'Common Locations': 1.0794329013034205, 'Common Causes': 1.089367688030792, 'Initial Treatment': 0.5777266626864418, 'OTC Ingredients': 1.749494932600598, 'Skincare Recommendations': 0.6874641401323762, 'Skincare Ingredients to Avoid': 1.6811214097399112, 'When to Consult Dermatologist': 2.7756591694160035, 'Expected Timeline': 0.32010067057550373, 'Combination Considerations': 2.724430282919279, 'Skin Type Adjustments': 0.17102408805301428, 'Age-Specific Considerations': 1.9029861182991787, 'Question': 1.9236065264819455, 'Answer': 2.2052070868718334, 'Category': 2.909914865740503}. Best is trial 10 with value: 0.6654705215419503.\n"
     ]
    },
    {
     "name": "stdout",
     "output_type": "stream",
     "text": [
      "Available keys: ['id', 'question']\n"
     ]
    },
    {
     "data": {
      "application/vnd.jupyter.widget-view+json": {
       "model_id": "fc4394dc56f14ab1a56c1d387b2f9657",
       "version_major": 2,
       "version_minor": 0
      },
      "text/plain": [
       "Evaluating questions:   0%|          | 0/70 [00:00<?, ?it/s]"
      ]
     },
     "metadata": {},
     "output_type": "display_data"
    },
    {
     "name": "stderr",
     "output_type": "stream",
     "text": [
      "[I 2025-05-19 21:55:26,961] Trial 21 finished with value: 0.6570975056689343 and parameters: {'Acne Type': 2.7235111500828855, 'Description': 1.7474960499303545, 'Common Locations': 1.19183770925132, 'Common Causes': 1.2294039167818727, 'Initial Treatment': 0.6177658861360651, 'OTC Ingredients': 1.669094172344242, 'Skincare Recommendations': 0.6487613507768205, 'Skincare Ingredients to Avoid': 1.7765973399018746, 'When to Consult Dermatologist': 2.758786334068736, 'Expected Timeline': 0.36588565583907096, 'Combination Considerations': 2.7954823587315563, 'Skin Type Adjustments': 0.09351787769773995, 'Age-Specific Considerations': 1.9504667808157272, 'Question': 1.7202113002351431, 'Answer': 2.7790417219839934, 'Category': 2.8628209034075613}. Best is trial 10 with value: 0.6654705215419503.\n"
     ]
    },
    {
     "name": "stdout",
     "output_type": "stream",
     "text": [
      "Available keys: ['id', 'question']\n"
     ]
    },
    {
     "data": {
      "application/vnd.jupyter.widget-view+json": {
       "model_id": "08fa442195744d6ba52d92b371032b7d",
       "version_major": 2,
       "version_minor": 0
      },
      "text/plain": [
       "Evaluating questions:   0%|          | 0/70 [00:00<?, ?it/s]"
      ]
     },
     "metadata": {},
     "output_type": "display_data"
    },
    {
     "name": "stderr",
     "output_type": "stream",
     "text": [
      "[I 2025-05-19 21:55:27,425] Trial 22 finished with value: 0.6391383219954649 and parameters: {'Acne Type': 2.5408430850440817, 'Description': 2.15622234580155, 'Common Locations': 0.9269287742369443, 'Common Causes': 0.7297107984168163, 'Initial Treatment': 1.245307313882031, 'OTC Ingredients': 1.9068849749629724, 'Skincare Recommendations': 0.07875666572896356, 'Skincare Ingredients to Avoid': 1.710067040322088, 'When to Consult Dermatologist': 2.3985547224863546, 'Expected Timeline': 0.018934796548931012, 'Combination Considerations': 2.6055024787682557, 'Skin Type Adjustments': 1.8249862848819776, 'Age-Specific Considerations': 1.3561082524558012, 'Question': 2.1657818741135966, 'Answer': 2.381711503877982, 'Category': 1.798020712276003}. Best is trial 10 with value: 0.6654705215419503.\n"
     ]
    },
    {
     "name": "stdout",
     "output_type": "stream",
     "text": [
      "Available keys: ['id', 'question']\n"
     ]
    },
    {
     "data": {
      "application/vnd.jupyter.widget-view+json": {
       "model_id": "cad9ef042d504445b60bd76c7e11595c",
       "version_major": 2,
       "version_minor": 0
      },
      "text/plain": [
       "Evaluating questions:   0%|          | 0/70 [00:00<?, ?it/s]"
      ]
     },
     "metadata": {},
     "output_type": "display_data"
    },
    {
     "name": "stderr",
     "output_type": "stream",
     "text": [
      "[I 2025-05-19 21:55:27,900] Trial 23 finished with value: 0.6893027210884354 and parameters: {'Acne Type': 2.9725019081143933, 'Description': 1.3491166671717947, 'Common Locations': 0.6133612157795411, 'Common Causes': 1.182571973102341, 'Initial Treatment': 1.6080539786632588, 'OTC Ingredients': 1.3598206092856642, 'Skincare Recommendations': 1.0843496658875982, 'Skincare Ingredients to Avoid': 1.3548755209561718, 'When to Consult Dermatologist': 2.825639199664483, 'Expected Timeline': 0.3209285663491851, 'Combination Considerations': 2.08435826474187, 'Skin Type Adjustments': 0.861466864513143, 'Age-Specific Considerations': 1.6385297735240865, 'Question': 1.1197775016193334, 'Answer': 2.1856080154308524, 'Category': 1.2649788496919363}. Best is trial 23 with value: 0.6893027210884354.\n"
     ]
    },
    {
     "name": "stdout",
     "output_type": "stream",
     "text": [
      "Available keys: ['id', 'question']\n"
     ]
    },
    {
     "data": {
      "application/vnd.jupyter.widget-view+json": {
       "model_id": "6f7f32149a4a4ff199faec354d78c435",
       "version_major": 2,
       "version_minor": 0
      },
      "text/plain": [
       "Evaluating questions:   0%|          | 0/70 [00:00<?, ?it/s]"
      ]
     },
     "metadata": {},
     "output_type": "display_data"
    },
    {
     "name": "stderr",
     "output_type": "stream",
     "text": [
      "[I 2025-05-19 21:55:28,365] Trial 24 finished with value: 0.6773979591836735 and parameters: {'Acne Type': 2.936248352970328, 'Description': 1.3136877063855632, 'Common Locations': 0.608438567530292, 'Common Causes': 0.29355756826592916, 'Initial Treatment': 1.7409821268918255, 'OTC Ingredients': 0.008003883831843916, 'Skincare Recommendations': 1.157487710397968, 'Skincare Ingredients to Avoid': 1.2842994771761684, 'When to Consult Dermatologist': 2.982041177905408, 'Expected Timeline': 0.7674343851895155, 'Combination Considerations': 2.0205862227824274, 'Skin Type Adjustments': 0.956563746650647, 'Age-Specific Considerations': 1.5385235161172923, 'Question': 1.186387214201164, 'Answer': 2.697528824443733, 'Category': 1.3411069985889708}. Best is trial 23 with value: 0.6893027210884354.\n"
     ]
    },
    {
     "name": "stdout",
     "output_type": "stream",
     "text": [
      "Available keys: ['id', 'question']\n"
     ]
    },
    {
     "data": {
      "application/vnd.jupyter.widget-view+json": {
       "model_id": "2e8062e43c2e4f49987ee264293867cd",
       "version_major": 2,
       "version_minor": 0
      },
      "text/plain": [
       "Evaluating questions:   0%|          | 0/70 [00:00<?, ?it/s]"
      ]
     },
     "metadata": {},
     "output_type": "display_data"
    },
    {
     "name": "stderr",
     "output_type": "stream",
     "text": [
      "[I 2025-05-19 21:55:28,845] Trial 25 finished with value: 0.651388888888889 and parameters: {'Acne Type': 1.942634609991683, 'Description': 0.7612170269631211, 'Common Locations': 0.04587458206877182, 'Common Causes': 0.391124572077816, 'Initial Treatment': 1.7425192516324322, 'OTC Ingredients': 0.08577070385172542, 'Skincare Recommendations': 1.2031993542199926, 'Skincare Ingredients to Avoid': 1.2936903294252982, 'When to Consult Dermatologist': 2.5553555854605587, 'Expected Timeline': 0.847099254857457, 'Combination Considerations': 2.1469560972640687, 'Skin Type Adjustments': 0.8879484135383462, 'Age-Specific Considerations': 1.679131808380506, 'Question': 1.1061855379184, 'Answer': 2.633444667682175, 'Category': 1.2587274937125115}. Best is trial 23 with value: 0.6893027210884354.\n"
     ]
    },
    {
     "name": "stdout",
     "output_type": "stream",
     "text": [
      "Available keys: ['id', 'question']\n"
     ]
    },
    {
     "data": {
      "application/vnd.jupyter.widget-view+json": {
       "model_id": "938c2e47150c4e198823c16864797945",
       "version_major": 2,
       "version_minor": 0
      },
      "text/plain": [
       "Evaluating questions:   0%|          | 0/70 [00:00<?, ?it/s]"
      ]
     },
     "metadata": {},
     "output_type": "display_data"
    },
    {
     "name": "stderr",
     "output_type": "stream",
     "text": [
      "[I 2025-05-19 21:55:29,320] Trial 26 finished with value: 0.658968253968254 and parameters: {'Acne Type': 2.410607447570965, 'Description': 1.3406526229466103, 'Common Locations': 0.5587839717921557, 'Common Causes': 1.5872774566017909, 'Initial Treatment': 2.307338549396666, 'OTC Ingredients': 0.6856215629721558, 'Skincare Recommendations': 1.0680194684635358, 'Skincare Ingredients to Avoid': 1.2811767744427098, 'When to Consult Dermatologist': 2.2084711164352955, 'Expected Timeline': 0.5859284851781034, 'Combination Considerations': 1.3349398797106191, 'Skin Type Adjustments': 0.44454662819749646, 'Age-Specific Considerations': 2.1526773304696123, 'Question': 1.061365605919285, 'Answer': 1.7216913033022014, 'Category': 1.2916205825110005}. Best is trial 23 with value: 0.6893027210884354.\n"
     ]
    },
    {
     "name": "stdout",
     "output_type": "stream",
     "text": [
      "Available keys: ['id', 'question']\n"
     ]
    },
    {
     "data": {
      "application/vnd.jupyter.widget-view+json": {
       "model_id": "16eb57c7b6724293b784d79b7eda8520",
       "version_major": 2,
       "version_minor": 0
      },
      "text/plain": [
       "Evaluating questions:   0%|          | 0/70 [00:00<?, ?it/s]"
      ]
     },
     "metadata": {},
     "output_type": "display_data"
    },
    {
     "name": "stderr",
     "output_type": "stream",
     "text": [
      "[I 2025-05-19 21:55:29,780] Trial 27 finished with value: 0.6635317460317461 and parameters: {'Acne Type': 2.1281612165467316, 'Description': 0.4692614767545169, 'Common Locations': 0.3148429074133578, 'Common Causes': 1.025599213114907, 'Initial Treatment': 2.0555327026201033, 'OTC Ingredients': 1.2968839842388489, 'Skincare Recommendations': 1.599959956021539, 'Skincare Ingredients to Avoid': 0.9091754032681809, 'When to Consult Dermatologist': 1.836785210481524, 'Expected Timeline': 1.244408105178416, 'Combination Considerations': 2.2827613937567834, 'Skin Type Adjustments': 1.0109689088241236, 'Age-Specific Considerations': 1.0429773178859185, 'Question': 0.47650654111923263, 'Answer': 2.1985948179899513, 'Category': 0.801875629378449}. Best is trial 23 with value: 0.6893027210884354.\n"
     ]
    },
    {
     "name": "stdout",
     "output_type": "stream",
     "text": [
      "Available keys: ['id', 'question']\n"
     ]
    },
    {
     "data": {
      "application/vnd.jupyter.widget-view+json": {
       "model_id": "d50abfad1fd646da901f0b531a4e7c96",
       "version_major": 2,
       "version_minor": 0
      },
      "text/plain": [
       "Evaluating questions:   0%|          | 0/70 [00:00<?, ?it/s]"
      ]
     },
     "metadata": {},
     "output_type": "display_data"
    },
    {
     "name": "stderr",
     "output_type": "stream",
     "text": [
      "[I 2025-05-19 21:55:30,240] Trial 28 finished with value: 0.6629365079365079 and parameters: {'Acne Type': 2.7935246743938666, 'Description': 1.351256005779148, 'Common Locations': 0.6775279042333211, 'Common Causes': 0.5131747796038896, 'Initial Treatment': 2.633288815605483, 'OTC Ingredients': 0.06452414984030241, 'Skincare Recommendations': 0.7934506528685581, 'Skincare Ingredients to Avoid': 0.31443955775443344, 'When to Consult Dermatologist': 2.811938235226079, 'Expected Timeline': 1.8943193292029339, 'Combination Considerations': 1.9749640265737953, 'Skin Type Adjustments': 0.6408980566628094, 'Age-Specific Considerations': 1.6061615097104003, 'Question': 1.1841518015247794, 'Answer': 2.8433937405608942, 'Category': 0.8224791392896044}. Best is trial 23 with value: 0.6893027210884354.\n"
     ]
    },
    {
     "name": "stdout",
     "output_type": "stream",
     "text": [
      "Available keys: ['id', 'question']\n"
     ]
    },
    {
     "data": {
      "application/vnd.jupyter.widget-view+json": {
       "model_id": "50728baaf5d749b69cd68004e815cf59",
       "version_major": 2,
       "version_minor": 0
      },
      "text/plain": [
       "Evaluating questions:   0%|          | 0/70 [00:00<?, ?it/s]"
      ]
     },
     "metadata": {},
     "output_type": "display_data"
    },
    {
     "name": "stderr",
     "output_type": "stream",
     "text": [
      "[I 2025-05-19 21:55:30,708] Trial 29 finished with value: 0.514263038548753 and parameters: {'Acne Type': 1.2144984000080206, 'Description': 1.121894300672759, 'Common Locations': 0.22638686300025013, 'Common Causes': 1.983380551499741, 'Initial Treatment': 1.5221261679182105, 'OTC Ingredients': 2.4571839520002534, 'Skincare Recommendations': 0.22221852850626278, 'Skincare Ingredients to Avoid': 1.351198148343253, 'When to Consult Dermatologist': 2.2940215057847717, 'Expected Timeline': 0.48244654814603344, 'Combination Considerations': 1.6853584526602319, 'Skin Type Adjustments': 1.2980801262725623, 'Age-Specific Considerations': 2.416145613369126, 'Question': 1.481807622961432, 'Answer': 2.0757594433497544, 'Category': 0.05489687099102514}. Best is trial 23 with value: 0.6893027210884354.\n"
     ]
    },
    {
     "name": "stdout",
     "output_type": "stream",
     "text": [
      "Best MRR score: 0.6893027210884354\n",
      "Best parameters:\n",
      "  Acne Type: 2.97\n",
      "  Description: 1.35\n",
      "  Common Locations: 0.61\n",
      "  Common Causes: 1.18\n",
      "  Initial Treatment: 1.61\n",
      "  OTC Ingredients: 1.36\n",
      "  Skincare Recommendations: 1.08\n",
      "  Skincare Ingredients to Avoid: 1.35\n",
      "  When to Consult Dermatologist: 2.83\n",
      "  Expected Timeline: 0.32\n",
      "  Combination Considerations: 2.08\n",
      "  Skin Type Adjustments: 0.86\n",
      "  Age-Specific Considerations: 1.64\n",
      "  Question: 1.12\n",
      "  Answer: 2.19\n",
      "  Category: 1.26\n"
     ]
    }
   ],
   "source": [
    "print(\"Starting Optuna optimization...\")\n",
    "study = optimize_with_optuna(n_trials=30)\n",
    "\n",
    "# Get the best parameters\n",
    "optuna_best_params = study.best_params\n",
    "optuna_best_score = study.best_value\n",
    "\n",
    "print(f\"Best MRR score: {optuna_best_score}\")\n",
    "print(\"Best parameters:\")\n",
    "for field, value in optuna_best_params.items():\n",
    "    print(f\"  {field}: {value:.2f}\")"
   ]
  },
  {
   "cell_type": "code",
   "execution_count": 81,
   "id": "2bdb04bc",
   "metadata": {},
   "outputs": [],
   "source": [
    "import matplotlib.pyplot as plt"
   ]
  },
  {
   "cell_type": "code",
   "execution_count": 82,
   "id": "2038e5dd",
   "metadata": {},
   "outputs": [
    {
     "name": "stderr",
     "output_type": "stream",
     "text": [
      "C:\\Users\\Andakara\\AppData\\Local\\Temp\\ipykernel_9408\\34023893.py:3: ExperimentalWarning: plot_optimization_history is experimental (supported from v2.2.0). The interface can change in the future.\n",
      "  optuna.visualization.matplotlib.plot_optimization_history(study)\n"
     ]
    },
    {
     "data": {
      "text/plain": [
       "<Figure size 1000x600 with 0 Axes>"
      ]
     },
     "metadata": {},
     "output_type": "display_data"
    },
    {
     "data": {
      "image/png": "[encoded data removed]",
      "text/plain": [
       "<Figure size 640x480 with 1 Axes>"
      ]
     },
     "metadata": {},
     "output_type": "display_data"
    },
    {
     "name": "stderr",
     "output_type": "stream",
     "text": [
      "C:\\Users\\Andakara\\AppData\\Local\\Temp\\ipykernel_9408\\34023893.py:10: ExperimentalWarning: plot_param_importances is experimental (supported from v2.2.0). The interface can change in the future.\n",
      "  optuna.visualization.matplotlib.plot_param_importances(study)\n"
     ]
    },
    {
     "data": {
      "text/plain": [
       "<Figure size 1200x800 with 0 Axes>"
      ]
     },
     "metadata": {},
     "output_type": "display_data"
    },
    {
     "data": {
      "image/png": "[encoded data removed]",
      "text/plain": [
       "<Figure size 640x480 with 1 Axes>"
      ]
     },
     "metadata": {},
     "output_type": "display_data"
    }
   ],
   "source": [
    "# Plot optimization history\n",
    "plt.figure(figsize=(10, 6))\n",
    "optuna.visualization.matplotlib.plot_optimization_history(study)\n",
    "plt.title('Optimization History')\n",
    "plt.tight_layout()\n",
    "plt.show()\n",
    "\n",
    "# Plot parameter importances\n",
    "plt.figure(figsize=(12, 8))\n",
    "optuna.visualization.matplotlib.plot_param_importances(study)\n",
    "plt.title('Parameter Importances')\n",
    "plt.tight_layout()\n",
    "plt.show()"
   ]
  },
  {
   "cell_type": "code",
   "execution_count": 83,
   "id": "80847a48",
   "metadata": {},
   "outputs": [
    {
     "name": "stdout",
     "output_type": "stream",
     "text": [
      "Evaluating on test data...\n",
      "Available keys: ['id', 'question']\n"
     ]
    },
    {
     "data": {
      "application/vnd.jupyter.widget-view+json": {
       "model_id": "f2050ae6eeae4431981635ea2746199f",
       "version_major": 2,
       "version_minor": 0
      },
      "text/plain": [
       "Evaluating questions:   0%|          | 0/70 [00:00<?, ?it/s]"
      ]
     },
     "metadata": {},
     "output_type": "display_data"
    },
    {
     "name": "stdout",
     "output_type": "stream",
     "text": [
      "Available keys: ['id', 'question']\n"
     ]
    },
    {
     "data": {
      "application/vnd.jupyter.widget-view+json": {
       "model_id": "6fff91ed75264b7fad3d44f3db29d1de",
       "version_major": 2,
       "version_minor": 0
      },
      "text/plain": [
       "Evaluating questions:   0%|          | 0/70 [00:00<?, ?it/s]"
      ]
     },
     "metadata": {},
     "output_type": "display_data"
    },
    {
     "name": "stdout",
     "output_type": "stream",
     "text": [
      "Baseline results: {'hit_rate': 0.7, 'mrr': 0.25566326530612243}\n",
      "Optimized results with Optuna: {'hit_rate': 0.7285714285714285, 'mrr': 0.22196712018140577}\n",
      "MRR improvement: -13.2%\n",
      "Hit rate improvement: 4.1%\n"
     ]
    }
   ],
   "source": [
    "def optimized_search(query):\n",
    "    \"\"\"Search function with Optuna-optimized boost parameters\"\"\"\n",
    "    boost = {param: float(value) for param, value in optuna_best_params.items()}\n",
    "    \n",
    "    results = index.search(\n",
    "        query=query,\n",
    "        filter_dict={},\n",
    "        boost_dict=boost,\n",
    "        num_results=10\n",
    "    )\n",
    "    \n",
    "    return results\n",
    "\n",
    "# Compare baseline vs optimized search on test data\n",
    "print(\"Evaluating on test data...\")\n",
    "baseline_test_results = evaluate(test_data, lambda q: search(q))\n",
    "optimized_test_results = evaluate(test_data, lambda q: optimized_search(q))\n",
    "\n",
    "print(f\"Baseline results: {baseline_test_results}\")\n",
    "print(f\"Optimized results with Optuna: {optimized_test_results}\")\n",
    "\n",
    "# Calculate relative improvement\n",
    "mrr_improvement = ((optimized_test_results['mrr'] - baseline_test_results['mrr']) / \n",
    "                   baseline_test_results['mrr']) * 100\n",
    "hit_improvement = ((optimized_test_results['hit_rate'] - baseline_test_results['hit_rate']) / \n",
    "                   baseline_test_results['hit_rate']) * 100\n",
    "\n",
    "print(f\"MRR improvement: {mrr_improvement:.1f}%\")\n",
    "print(f\"Hit rate improvement: {hit_improvement:.1f}%\")"
   ]
  },
  {
   "cell_type": "markdown",
   "id": "e7263ecd",
   "metadata": {},
   "source": [
    "# RAG Eval"
   ]
  },
  {
   "cell_type": "code",
   "execution_count": 84,
   "id": "74485a85",
   "metadata": {},
   "outputs": [],
   "source": [
    "import google.generativeai as genai\n",
    "from dotenv import load_dotenv\n",
    "import os"
   ]
  },
  {
   "cell_type": "code",
   "execution_count": 85,
   "id": "2e541caa",
   "metadata": {},
   "outputs": [],
   "source": [
    "load_dotenv()\n",
    "api_key = os.getenv(\"GOOGLE_API_KEY\")\n",
    "genai.configure(api_key=api_key)"
   ]
  },
  {
   "cell_type": "code",
   "execution_count": 86,
   "id": "6df0427c",
   "metadata": {},
   "outputs": [],
   "source": [
    "gemini_model = genai.GenerativeModel(\"gemini-2.0-flash\")"
   ]
  },
  {
   "cell_type": "code",
   "execution_count": 87,
   "id": "54a9d33c",
   "metadata": {},
   "outputs": [],
   "source": [
    "def gemini_llm(prompt):\n",
    "    \"\"\"Call Gemini model with a prompt\"\"\"\n",
    "    response = gemini_model.generate_content(\n",
    "        prompt,\n",
    "        generation_config={\n",
    "            \"temperature\": 0.1,  # Lower temperature for evaluation\n",
    "            \"max_output_tokens\": 500,\n",
    "            \"top_p\": 0.95,\n",
    "            \"top_k\": 40,\n",
    "        }\n",
    "    )\n",
    "    return response.text\n",
    "\n",
    "def evaluate_answer(question, answer):\n",
    "    \"\"\"Evaluate the relevance of an answer to a question using Gemini\"\"\"\n",
    "    prompt_template = \"\"\"\n",
    "You are an expert evaluator for a RAG system.\n",
    "Your task is to analyze the relevance of the generated answer to the given question.\n",
    "Based on the relevance of the generated answer, you will classify it\n",
    "as \"NON_RELEVANT\", \"PARTLY_RELEVANT\", or \"RELEVANT\".\n",
    "\n",
    "Here is the data for evaluation:\n",
    "\n",
    "Question: {question}\n",
    "Generated Answer: {answer}\n",
    "\n",
    "Please analyze the content and context of the generated answer in relation to the question\n",
    "and provide your evaluation in parsable JSON without using code blocks:\n",
    "\n",
    "{{\n",
    "  \"Relevance\": \"NON_RELEVANT\" | \"PARTLY_RELEVANT\" | \"RELEVANT\",\n",
    "  \"Explanation\": \"[Provide a brief explanation for your evaluation]\"\n",
    "}}\n",
    "\"\"\".strip()\n",
    "    \n",
    "    prompt = prompt_template.format(question=question, answer=answer)\n",
    "    evaluation = gemini_llm(prompt)\n",
    "    \n",
    "    # Extract JSON from the response\n",
    "    try:\n",
    "        # In case the model returns markdown formatting or additional text\n",
    "        if '```json' in evaluation:\n",
    "            json_str = evaluation.split('```json')[1].split('```')[0].strip()\n",
    "        elif '{' in evaluation and '}' in evaluation:\n",
    "            json_str = evaluation[evaluation.find('{'):evaluation.rfind('}')+1]\n",
    "        else:\n",
    "            json_str = evaluation\n",
    "            \n",
    "        result = json.loads(json_str)\n",
    "        return result\n",
    "    except json.JSONDecodeError:\n",
    "        print(f\"Error parsing evaluation: {evaluation}\")\n",
    "        return {\"Relevance\": \"ERROR\", \"Explanation\": \"Failed to parse evaluation\"}"
   ]
  },
  {
   "cell_type": "code",
   "execution_count": 88,
   "id": "470c3776",
   "metadata": {},
   "outputs": [],
   "source": [
    "def run_evaluation(sample_size=50, random_seed=42):\n",
    "    \"\"\"Run evaluation on a sample of questions\"\"\"\n",
    "    # Load evaluation questions\n",
    "    df_eval_questions = pd.read_csv('../data/knowledge-base/acne_retrieval_eval_questions.csv')\n",
    "    \n",
    "    # Take a random sample\n",
    "    df_sample = df_eval_questions.sample(n=sample_size, random_state=random_seed)\n",
    "    sample = df_sample.to_dict(orient='records')\n",
    "    \n",
    "    evaluations = []\n",
    "    \n",
    "    for record in tqdm(sample, desc=\"Evaluating questions\"):\n",
    "        question = record['question']\n",
    "        # Use your existing RAG implementation\n",
    "        answer = answer_question(question, model=\"qwen2:7b\")\n",
    "        \n",
    "        # Evaluate with Gemini\n",
    "        evaluation = evaluate_answer(question, answer)\n",
    "        evaluations.append((record, answer, evaluation))\n",
    "    \n",
    "    return evaluations\n",
    "\n",
    "def analyze_evaluation_results(evaluations):\n",
    "    \"\"\"Process and visualize evaluation results\"\"\"\n",
    "    # Create DataFrame\n",
    "    df_eval = pd.DataFrame(evaluations, columns=['record', 'answer', 'evaluation'])\n",
    "    \n",
    "    df_eval['id'] = df_eval.record.apply(lambda d: d['id'])\n",
    "    df_eval['question'] = df_eval.record.apply(lambda d: d['question'])\n",
    "    \n",
    "    df_eval['relevance'] = df_eval.evaluation.apply(lambda d: d['Relevance'])\n",
    "    df_eval['explanation'] = df_eval.evaluation.apply(lambda d: d['Explanation'])\n",
    "    \n",
    "    del df_eval['record']\n",
    "    del df_eval['evaluation']\n",
    "    \n",
    "    # Display relevance statistics\n",
    "    relevance_counts = df_eval.relevance.value_counts()\n",
    "    relevance_percentage = df_eval.relevance.value_counts(normalize=True) * 100\n",
    "    \n",
    "    print(\"Relevance Counts:\")\n",
    "    print(relevance_counts)\n",
    "    print(\"\\nRelevance Percentages:\")\n",
    "    print(relevance_percentage)\n",
    "    \n",
    "    # Create a pie chart\n",
    "    plt.figure(figsize=(10, 6))\n",
    "    plt.pie(relevance_counts, labels=relevance_counts.index, autopct='%1.1f%%', startangle=90)\n",
    "    plt.title('Distribution of Answer Relevance')\n",
    "    plt.axis('equal')  # Equal aspect ratio ensures the pie is circular\n",
    "    plt.tight_layout()\n",
    "    plt.show()\n",
    "    \n",
    "    return df_eval"
   ]
  },
  {
   "cell_type": "code",
   "execution_count": 89,
   "id": "b51cfa8c",
   "metadata": {},
   "outputs": [
    {
     "data": {
      "application/vnd.jupyter.widget-view+json": {
       "model_id": "63d56e07b1a8489a8f8f01b9af2f1cbc",
       "version_major": 2,
       "version_minor": 0
      },
      "text/plain": [
       "Evaluating questions:   0%|          | 0/10 [00:00<?, ?it/s]"
      ]
     },
     "metadata": {},
     "output_type": "display_data"
    },
    {
     "name": "stdout",
     "output_type": "stream",
     "text": [
      "Relevance Counts:\n",
      "relevance\n",
      "RELEVANT        9\n",
      "NON_RELEVANT    1\n",
      "Name: count, dtype: int64\n",
      "\n",
      "Relevance Percentages:\n",
      "relevance\n",
      "RELEVANT        90.0\n",
      "NON_RELEVANT    10.0\n",
      "Name: proportion, dtype: float64\n"
     ]
    },
    {
     "data": {
      "image/png": "[encoded data removed]",
      "text/plain": [
       "<Figure size 1000x600 with 1 Axes>"
      ]
     },
     "metadata": {},
     "output_type": "display_data"
    },
    {
     "name": "stdout",
     "output_type": "stream",
     "text": [
      "\n",
      "NON-RELEVANT example:\n",
      "Question: Can you explain the process of lesion detection by Acne Sense?\n",
      "Answer: I don't have enough information to answer that question.\n",
      "Explanation: The answer states that it does not have enough information to answer the question. Therefore, it does not provide any relevant information about the lesion detection process by Acne Sense.\n",
      "\n",
      "PARTLY_RELEVANT example:\n",
      "No partly-relevant examples found\n",
      "\n",
      "RELEVANT example:\n",
      "Question: Can you explain how adult skin benefits from certain ingredients in acne management?\n",
      "Answer: Certainly! Adult skin, especially when managing acne, can benefit significantly from specific ingredients tailored to its needs. Here's a breakdown:\n",
      "\n",
      "1. **Sensitive Skin**: Ingredients like oat extract are beneficial for sensitive skin as they help soothe and calm the skin without causing irritation or drying out the skin excessively.\n",
      "\n",
      "2. **Oily Skin**: In oily skin types, it might be advisable to use clay-based products during exfoliation sessions since these can help absorb excess oil, prevent clogging pores, and keep the skin's natural balance in check.\n",
      "\n",
      "3. **Dry Skin**: For dry skin, regular moisturizing after exfoliation becomes crucial as it helps maintain hydration levels without causing any discomfort or flakiness that might be exacerbated by other ingredients meant for oilier skin types.\n",
      "\n",
      "4. **Mature Skin**: Products containing niacinamide can aid mature skin in the fight against acne. Niacinamide helps regulate sebum production, reduces inflammation, and strengthens the skin barrier function, which is often compromised with age.\n",
      "\n",
      "5. **All Skin Types (Extreme Gentleness Required)**: For all skin types but requiring extreme gentleness during treatment, it's best to avoid harsh exfoliants, alcohol, fragrances, thick occlusive oils, silicone-heavy products, topical steroids, and abrasive cleansers that can further irritate or damage the skin barrier.\n",
      "\n",
      "Each age-specific consideration ensures that acne management strategies align with the skin changes associated with aging, promoting effective treatment without exacerbating other issues like dryness, sensitivity, or premature aging.\n",
      "Explanation: The answer directly addresses the question by explaining how adult skin benefits from specific ingredients in acne management, categorizing the benefits based on skin type and age-related considerations.\n"
     ]
    }
   ],
   "source": [
    "# Run evaluation with smaller sample size while testing\n",
    "test_evaluations = run_evaluation(sample_size=10)\n",
    "test_df = analyze_evaluation_results(test_evaluations)\n",
    "\n",
    "# Look at examples of different relevance categories\n",
    "print(\"\\nNON-RELEVANT example:\")\n",
    "if len(test_df[test_df.relevance == 'NON_RELEVANT']) > 0:\n",
    "    example = test_df[test_df.relevance == 'NON_RELEVANT'].iloc[0]\n",
    "    print(f\"Question: {example.question}\")\n",
    "    print(f\"Answer: {example.answer}\")\n",
    "    print(f\"Explanation: {example.explanation}\")\n",
    "else:\n",
    "    print(\"No non-relevant examples found\")\n",
    "\n",
    "print(\"\\nPARTLY_RELEVANT example:\")\n",
    "if len(test_df[test_df.relevance == 'PARTLY_RELEVANT']) > 0:\n",
    "    example = test_df[test_df.relevance == 'PARTLY_RELEVANT'].iloc[0]\n",
    "    print(f\"Question: {example.question}\")\n",
    "    print(f\"Answer: {example.answer}\")\n",
    "    print(f\"Explanation: {example.explanation}\")\n",
    "else:\n",
    "    print(\"No partly-relevant examples found\")\n",
    "\n",
    "print(\"\\nRELEVANT example:\")\n",
    "if len(test_df[test_df.relevance == 'RELEVANT']) > 0:\n",
    "    example = test_df[test_df.relevance == 'RELEVANT'].iloc[0]\n",
    "    print(f\"Question: {example.question}\")\n",
    "    print(f\"Answer: {example.answer}\")\n",
    "    print(f\"Explanation: {example.explanation}\")\n",
    "else:\n",
    "    print(\"No relevant examples found\")"
   ]
  },
  {
   "cell_type": "code",
   "execution_count": 90,
   "id": "ddaf0f95",
   "metadata": {},
   "outputs": [
    {
     "name": "stdout",
     "output_type": "stream",
     "text": [
      "Running full evaluation...\n"
     ]
    },
    {
     "data": {
      "application/vnd.jupyter.widget-view+json": {
       "model_id": "aa98ae6f3e21449592031698d2740728",
       "version_major": 2,
       "version_minor": 0
      },
      "text/plain": [
       "Evaluating questions:   0%|          | 0/50 [00:00<?, ?it/s]"
      ]
     },
     "metadata": {},
     "output_type": "display_data"
    },
    {
     "name": "stdout",
     "output_type": "stream",
     "text": [
      "Relevance Counts:\n",
      "relevance\n",
      "RELEVANT           39\n",
      "NON_RELEVANT        6\n",
      "PARTLY_RELEVANT     5\n",
      "Name: count, dtype: int64\n",
      "\n",
      "Relevance Percentages:\n",
      "relevance\n",
      "RELEVANT           78.0\n",
      "NON_RELEVANT       12.0\n",
      "PARTLY_RELEVANT    10.0\n",
      "Name: proportion, dtype: float64\n"
     ]
    },
    {
     "data": {
      "image/png": "[encoded data removed]",
      "text/plain": [
       "<Figure size 1000x600 with 1 Axes>"
      ]
     },
     "metadata": {},
     "output_type": "display_data"
    }
   ],
   "source": [
    "print(\"Running full evaluation...\")\n",
    "evaluations = run_evaluation(sample_size=50)\n",
    "df_eval = analyze_evaluation_results(evaluations)"
   ]
  },
  {
   "cell_type": "code",
   "execution_count": 91,
   "id": "ce5f9bf2",
   "metadata": {},
   "outputs": [
    {
     "name": "stdout",
     "output_type": "stream",
     "text": [
      "Evaluation saved to '../data/knowledge-base/rag-eval-gemini.csv'\n"
     ]
    }
   ],
   "source": [
    "df_eval.to_csv('../data/knowledge-base/rag-eval-gemini.csv', index=False)\n",
    "print(f\"Evaluation saved to '../data/knowledge-base/rag-eval-gemini.csv'\")"
   ]
  },
  {
   "cell_type": "code",
   "execution_count": 92,
   "id": "26279f7b",
   "metadata": {},
   "outputs": [
    {
     "name": "stdout",
     "output_type": "stream",
     "text": [
      "                                            question qwen_relevance\n",
      "0    What are the best treatments for hormonal acne?       RELEVANT\n",
      "1  How to deal with post-inflammatory hyperpigmen...       RELEVANT\n",
      "2     When should I see a dermatologist for my acne?       RELEVANT\n",
      "3  What ingredients should I avoid if I have sens...       RELEVANT\n",
      "4  How long does it take to see results from reti...       RELEVANT\n"
     ]
    }
   ],
   "source": [
    "def compare_models():\n",
    "    \"\"\"Compare RAG performance between Qwen and another model\"\"\"\n",
    "    # Define questions for comparison\n",
    "    comparison_questions = [\n",
    "        \"What are the best treatments for hormonal acne?\",\n",
    "        \"How to deal with post-inflammatory hyperpigmentation?\",\n",
    "        \"When should I see a dermatologist for my acne?\",\n",
    "        \"What ingredients should I avoid if I have sensitive skin and acne?\",\n",
    "        \"How long does it take to see results from retinoids?\"\n",
    "    ]\n",
    "    \n",
    "    results = []\n",
    "    \n",
    "    for question in comparison_questions:\n",
    "        # Get answer from Qwen\n",
    "        qwen_answer = answer_question(question, model=\"qwen2:7b\")\n",
    "        \n",
    "        # Evaluate with Gemini\n",
    "        qwen_evaluation = evaluate_answer(question, qwen_answer)\n",
    "        \n",
    "        # Get answer from backup model (if available)\n",
    "        # backup_answer = answer_question(question, model=\"another_model\")\n",
    "        # backup_evaluation = evaluate_answer(question, backup_answer)\n",
    "        \n",
    "        results.append({\n",
    "            \"question\": question,\n",
    "            \"qwen_answer\": qwen_answer,\n",
    "            \"qwen_relevance\": qwen_evaluation[\"Relevance\"],\n",
    "            \"qwen_explanation\": qwen_evaluation[\"Explanation\"],\n",
    "            # \"backup_answer\": backup_answer,\n",
    "            # \"backup_relevance\": backup_evaluation[\"Relevance\"],\n",
    "            # \"backup_explanation\": backup_evaluation[\"Explanation\"]\n",
    "        })\n",
    "    \n",
    "    return pd.DataFrame(results)\n",
    "\n",
    "# Run model comparison\n",
    "model_comparison = compare_models()\n",
    "print(model_comparison[[\"question\", \"qwen_relevance\"]])"
   ]
  }
 ],
 "metadata": {
  "kernelspec": {
   "display_name": ".acne-sense-llm-venv",
   "language": "python",
   "name": "python3"
  },
  "language_info": {
   "codemirror_mode": {
    "name": "ipython",
    "version": 3
   },
   "file_extension": ".py",
   "mimetype": "text/x-python",
   "name": "python",
   "nbconvert_exporter": "python",
   "pygments_lexer": "ipython3",
   "version": "3.12.9"
  }
 },
 "nbformat": 4,
 "nbformat_minor": 5
}

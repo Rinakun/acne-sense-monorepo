{
 "cells": [
  {
   "cell_type": "code",
   "execution_count": 11,
   "id": "3ac947de-effd-4b61-8792-a6d7a133f347",
   "metadata": {},
   "outputs": [],
   "source": [
    "import json\n",
    "import minsearch\n",
    "import google.generativeai as genai\n",
    "from dotenv import load_dotenv\n",
    "import os"
   ]
  },
  {
   "cell_type": "code",
   "execution_count": 12,
   "id": "1acd65b1",
   "metadata": {},
   "outputs": [
    {
     "data": {
      "text/plain": [
       "<minsearch.Index at 0x1b2422210a0>"
      ]
     },
     "execution_count": 12,
     "metadata": {},
     "output_type": "execute_result"
    }
   ],
   "source": [
    "# Load API key\n",
    "load_dotenv()\n",
    "api_key = os.getenv(\"GOOGLE_API_KEY\")\n",
    "genai.configure(api_key=api_key)\n",
    "\n",
    "# Initialize Gemini model\n",
    "model = genai.GenerativeModel(\"gemini-1.5-flash\")\n",
    "\n",
    "# Load and prepare documents\n",
    "documents_path = \"documents.json\" \n",
    "with open(documents_path, 'r', encoding='utf-8') as file:\n",
    "    documents_raw = json.load(file)\n",
    "\n",
    "documents = []\n",
    "\n",
    "for course in documents_raw:  # Change from 'documents' to 'documents_raw'\n",
    "    course_name = course['course']\n",
    "    \n",
    "    for doc in course['documents']:\n",
    "        doc['course'] = course_name\n",
    "        documents.append(doc)\n",
    "\n",
    "# Refit the index with the expanded document set\n",
    "index = minsearch.Index(\n",
    "    text_fields=[\"question\", \"text\", \"section\"],\n",
    "    keyword_fields=[\"course\"]\n",
    ")\n",
    "\n",
    "index.fit(documents)"
   ]
  },
  {
   "cell_type": "code",
   "execution_count": 13,
   "id": "8f087272-b44d-4738-9ea2-175ec63a058b",
   "metadata": {},
   "outputs": [],
   "source": [
    "def search(query, filter_course=None):\n",
    "    boost = {'question': 3.0, 'section': 0.5}\n",
    "    \n",
    "    filter_dict = {}\n",
    "    if filter_course:\n",
    "        filter_dict = {'course': filter_course}\n",
    "        \n",
    "    results = index.search(\n",
    "        query=query,\n",
    "        filter_dict=filter_dict,\n",
    "        boost_dict=boost,\n",
    "        num_results=5\n",
    "    )\n",
    "    \n",
    "    return results"
   ]
  },
  {
   "cell_type": "code",
   "execution_count": 14,
   "id": "742ab881-499a-4675-83c4-2013ea1377b9",
   "metadata": {},
   "outputs": [],
   "source": [
    "def build_prompt(query, diagnosis_result, search_results):\n",
    "    prompt_template = \"\"\"\n",
    "You are a dermatology AI assistant for the Acne Sense app. Your role is to provide helpful, accurate information about acne based on the user's skin analysis and questions.\n",
    "\n",
    "SKIN ANALYSIS RESULT:\n",
    "{diagnosis}\n",
    "\n",
    "USER QUESTION: {question}\n",
    "\n",
    "CONTEXT FROM KNOWLEDGE BASE:\n",
    "{context}\n",
    "\n",
    "Provide a helpful, compassionate response that:\n",
    "1. Acknowledges their specific acne condition\n",
    "2. Offers relevant treatment suggestions and skincare advice based on their acne type\n",
    "3. Clearly indicates when professional dermatologist consultation is recommended\n",
    "4. Uses only information from the provided context\n",
    "5. Avoids making definitive medical diagnoses or prescribing specific medications\n",
    "\"\"\".strip()\n",
    "\n",
    "    context = \"\"\n",
    "    \n",
    "    for doc in search_results:\n",
    "        context = context + f\"section: {doc['section']}\\nquestion: {doc['question']}\\nanswer: {doc['text']}\\n\\n\"\n",
    "    \n",
    "    prompt = prompt_template.format(diagnosis=diagnosis_result, question=query, context=context).strip()\n",
    "    return prompt\n",
    "\n",
    "def llm(prompt):\n",
    "    response = model.generate_content(\n",
    "        prompt,\n",
    "        generation_config={\n",
    "            \"temperature\": 0.2,  # Lower temperature for more factual responses\n",
    "            \"max_output_tokens\": 800,  # Appropriate length for detailed answers\n",
    "            \"top_p\": 0.95,\n",
    "            \"top_k\": 40,\n",
    "        }\n",
    "    )\n",
    "    \n",
    "    return response.text"
   ]
  },
  {
   "cell_type": "code",
   "execution_count": 15,
   "id": "fe8bff3e-b672-42be-866b-f2d9bb217106",
   "metadata": {},
   "outputs": [],
   "source": [
    "\n",
    "def rag(query, diagnosis_result=None, filter_course=None):\n",
    "    search_results = search(query, filter_course)\n",
    "    prompt = build_prompt(query, diagnosis_result, search_results)\n",
    "    answer = llm(prompt)\n",
    "    return answer"
   ]
  },
  {
   "cell_type": "code",
   "execution_count": 16,
   "id": "091a77e6-936b-448e-a04b-bad1001f5bb0",
   "metadata": {},
   "outputs": [
    {
     "name": "stdout",
     "output_type": "stream",
     "text": [
      "This is a test.\n",
      "\n"
     ]
    }
   ],
   "source": [
    "# Test the basic LLM function\n",
    "response = llm('write that this is a test')\n",
    "print(response)"
   ]
  },
  {
   "cell_type": "code",
   "execution_count": 17,
   "id": "f4528bf2",
   "metadata": {},
   "outputs": [
    {
     "name": "stdout",
     "output_type": "stream",
     "text": [
      "Question about the app:\n",
      "Q: How does the Acne Sense app protect my privacy?\n",
      "A: Hello!  Your Acne Sense skin analysis currently shows no acne. That's great news!\n",
      "\n",
      "Since your analysis shows no acne at this time, there's no need for specific treatment suggestions or skincare advice tailored to your acne type.  However, maintaining good skin health is always important.  To track your skin's condition over time and catch any potential future issues early, you can use the Acne Sense 'Progress' feature. Remember to take photos consistently, ideally every 2-4 weeks, under similar lighting conditions.\n",
      "\n",
      "To learn more about how Acne Sense works and how to take photos for analysis, please refer to the app's help section.  If you notice any changes in your skin or develop acne in the future, the app can help you track your progress and assess your condition.\n",
      "\n",
      "While Acne Sense can be a helpful tool for managing your skin, it's not a substitute for professional medical advice.  If you have any concerns about your skin, or if you develop acne, it's always best to consult a dermatologist for a proper diagnosis and personalized treatment plan.\n",
      "\n",
      "\n",
      "==================================================\n",
      "\n"
     ]
    }
   ],
   "source": [
    "# Test with a question about the app\n",
    "app_query = \"How does the Acne Sense app protect my privacy?\"\n",
    "app_answer = rag(app_query, filter_course=\"acne-sense-app-info\")\n",
    "print(\"Question about the app:\")\n",
    "print(f\"Q: {app_query}\")\n",
    "print(f\"A: {app_answer}\")\n",
    "print(\"\\n\" + \"=\"*50 + \"\\n\")"
   ]
  },
  {
   "cell_type": "code",
   "execution_count": 18,
   "id": "9ee527a3-3331-4f4e-b6c8-f659ffc113f5",
   "metadata": {},
   "outputs": [
    {
     "name": "stdout",
     "output_type": "stream",
     "text": [
      "Question about acne treatment:\n",
      "Q: What should I do about papules on my face?\n",
      "A: Hi there!  I understand you're dealing with mild inflammatory acne, specifically some papules on your forehead and cheeks.  That's completely manageable.\n",
      "\n",
      "Based on your skin analysis showing several papules,  you can try over-the-counter treatments containing benzoyl peroxide or salicylic acid. These are commonly used to treat papules, which are small, raised pimples. Remember to avoid picking or squeezing them, as this can worsen inflammation and potentially lead to scarring.  \n",
      "\n",
      "To introduce these new products, start with a low concentration and apply them only once a day, gradually increasing frequency as tolerated.  Remember to also incorporate a gentle cleanser and a non-comedogenic moisturizer into your routine.  Don't forget sunscreen during the day!\n",
      "\n",
      "It's important to be patient and consistent with your skincare routine. If you don't see improvement after 2-3 months of consistently using over-the-counter treatments, it's a good idea to schedule a visit with a dermatologist.  They can offer more targeted treatment options and help prevent scarring.  A dermatologist is also recommended if your acne worsens significantly or causes you emotional distress.  They can provide prescription treatments if needed.  For now, focus on gentle cleansing, avoiding touching your face, and using the suggested over-the-counter treatments.\n",
      "\n",
      "\n",
      "==================================================\n",
      "\n"
     ]
    }
   ],
   "source": [
    "# Test with a question about acne treatment\n",
    "acne_query = \"What should I do about papules on my face?\"\n",
    "acne_diagnosis = \"\"\"\n",
    "Acne Type: Mild inflammatory acne\n",
    "Main Lesions Detected:\n",
    "- Several papules (6)\n",
    "- Few pustules (2)\n",
    "Location: Primarily on forehead and cheeks\n",
    "\"\"\"\n",
    "acne_answer = rag(acne_query, acne_diagnosis, filter_course=\"acne-sense-knowledge-base\")\n",
    "print(\"Question about acne treatment:\")\n",
    "print(f\"Q: {acne_query}\")\n",
    "print(f\"A: {acne_answer}\")\n",
    "print(\"\\n\" + \"=\"*50 + \"\\n\")"
   ]
  },
  {
   "cell_type": "code",
   "execution_count": 19,
   "id": "3f2f40a7",
   "metadata": {},
   "outputs": [
    {
     "name": "stdout",
     "output_type": "stream",
     "text": [
      "Mixed question about treatment tracking in app:\n",
      "Q: How can I track my progress using benzoyl peroxide with the app?\n",
      "A: Hi there!  Based on your Acne Sense analysis, you have mild comedonal acne with some inflammatory elements, mainly blackheads, whiteheads, and a few papules on your forehead and nose.  That's good news, as mild acne is often treatable with over-the-counter options.\n",
      "\n",
      "You're using benzoyl peroxide, which is excellent!  Remember to apply it as directed, starting with once daily and increasing to twice daily only if your skin tolerates it well.  Benzoyl peroxide kills acne-causing bacteria and helps remove excess oil.  Be mindful that it can bleach fabrics, so protect your clothes and bedding.  You might experience some dryness, redness, or irritation – if this becomes severe, reduce the frequency of application.\n",
      "\n",
      "To track your progress with benzoyl peroxide, use the Acne Sense 'Progress' feature. Take new analysis photos every 2-4 weeks, ensuring consistent lighting and angles for accurate comparisons. The app will then show you changes in lesion counts, severity scores, and affected areas over time. This visual record will help you see how well the treatment is working.\n",
      "\n",
      "Maintaining a gentle skincare routine is also important.  Use a mild, non-comedogenic cleanser daily.\n",
      "\n",
      "While benzoyl peroxide is a good starting point for mild acne, if you don't see improvement after consistent use (for example, after 4-6 weeks of diligent use and tracking via the app), or if your acne worsens, it's best to consult a dermatologist. They can assess your skin and recommend other treatments, such as topical retinoids, if needed.  They can also help address any concerns about side effects or persistent acne.\n",
      "\n"
     ]
    }
   ],
   "source": [
    "mixed_query = \"How can I track my progress using benzoyl peroxide with the app?\"\n",
    "mixed_diagnosis = \"\"\"\n",
    "Acne Type: Mild comedonal acne with inflammatory elements\n",
    "Main Lesions Detected:\n",
    "- Several blackheads and whiteheads\n",
    "- Few papules (3)\n",
    "Location: Primarily on forehead and nose\n",
    "\"\"\"\n",
    "# No filter - let it search across all knowledge bases\n",
    "mixed_answer = rag(mixed_query, mixed_diagnosis) \n",
    "print(\"Mixed question about treatment tracking in app:\")\n",
    "print(f\"Q: {mixed_query}\")\n",
    "print(f\"A: {mixed_answer}\")"
   ]
  }
 ],
 "metadata": {
  "kernelspec": {
   "display_name": ".acne-sense-llm-venv",
   "language": "python",
   "name": "python3"
  },
  "language_info": {
   "codemirror_mode": {
    "name": "ipython",
    "version": 3
   },
   "file_extension": ".py",
   "mimetype": "text/x-python",
   "name": "python",
   "nbconvert_exporter": "python",
   "pygments_lexer": "ipython3",
   "version": "3.12.9"
  }
 },
 "nbformat": 4,
 "nbformat_minor": 5
}

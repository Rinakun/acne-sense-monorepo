{
 "cells": [
  {
   "cell_type": "code",
   "execution_count": 1,
   "id": "03d34807",
   "metadata": {},
   "outputs": [
    {
     "name": "stderr",
     "output_type": "stream",
     "text": [
      "d:\\Workspace\\Repository\\acne-sense-monorepo\\ml\\llm\\.acne-sense-llm-venv\\Lib\\site-packages\\tqdm\\auto.py:21: TqdmWarning: IProgress not found. Please update jupyter and ipywidgets. See https://ipywidgets.readthedocs.io/en/stable/user_install.html\n",
      "  from .autonotebook import tqdm as notebook_tqdm\n"
     ]
    }
   ],
   "source": [
    "import google.generativeai as genai"
   ]
  },
  {
   "cell_type": "code",
   "execution_count": 2,
   "id": "f09f6f77",
   "metadata": {},
   "outputs": [],
   "source": [
    "from dotenv import load_dotenv\n",
    "import os"
   ]
  },
  {
   "cell_type": "code",
   "execution_count": 3,
   "id": "cb27aa11",
   "metadata": {},
   "outputs": [
    {
     "data": {
      "text/plain": [
       "True"
      ]
     },
     "execution_count": 3,
     "metadata": {},
     "output_type": "execute_result"
    }
   ],
   "source": [
    "load_dotenv()"
   ]
  },
  {
   "cell_type": "code",
   "execution_count": 4,
   "id": "8832050f",
   "metadata": {},
   "outputs": [],
   "source": [
    "api_key = os.getenv(\"GOOGLE_API_KEY\")\n",
    "genai.configure(api_key=api_key)"
   ]
  },
  {
   "cell_type": "code",
   "execution_count": 5,
   "id": "bec901b5",
   "metadata": {},
   "outputs": [],
   "source": [
    "model = genai.GenerativeModel(\"gemini-1.5-flash\")"
   ]
  },
  {
   "cell_type": "code",
   "execution_count": 6,
   "id": "00babd93",
   "metadata": {},
   "outputs": [
    {
     "name": "stdout",
     "output_type": "stream",
     "text": [
      "* **Improved Diagnostic Accuracy:** AI algorithms can analyze dermatological images (moles, rashes, etc.) with high accuracy, potentially detecting skin cancers and other conditions earlier than a human eye alone, leading to better patient outcomes.\n",
      "\n",
      "* **Increased Accessibility and Efficiency:** AI-powered tools can provide preliminary assessments and triage patients, reducing the workload on dermatologists and allowing them to focus on more complex cases.  This also improves access to dermatological care, especially in underserved areas.\n",
      "\n",
      "* **Personalized Treatment Plans:** AI can analyze patient data (images, medical history, lifestyle factors) to predict treatment response and personalize treatment strategies, potentially leading to more effective and tailored interventions.\n",
      "\n"
     ]
    }
   ],
   "source": [
    "response = model.generate_content(\"Explain the benefits of AI in dermatology in 3 bullet points.\")\n",
    "print(response.text)"
   ]
  },
  {
   "cell_type": "code",
   "execution_count": 7,
   "id": "50f182b7",
   "metadata": {},
   "outputs": [
    {
     "name": "stdout",
     "output_type": "stream",
     "text": [
      "AI is showing promise in helping diagnose acne!  Think of it like having a super-powered magnifying glass and expert knowledge all in one.\n",
      "\n",
      "Here's how it can help:\n",
      "\n",
      "* **Faster and more consistent diagnosis:** AI can analyze images of your skin much quicker than a doctor can, spotting subtle signs of different acne types (like mild, moderate, or severe, or identifying specific conditions like rosacea). This means you could get a diagnosis faster.  It also helps reduce the chance of misdiagnosis due to human error.\n",
      "* **Personalized treatment recommendations:**  By analyzing your skin's characteristics, AI can help your doctor tailor a treatment plan that's best suited for *your* specific type of acne and skin.\n",
      "* **Objective assessment:** AI can provide an objective measurement of your acne severity, which can be helpful for tracking progress and making sure your treatment is working.\n",
      "\n",
      "\n",
      "However, there are some things to keep in mind:\n",
      "\n",
      "* **AI isn't a replacement for a doctor:**  AI is a tool to assist doctors, not replace them.  You'll still need a dermatologist to make the final diagnosis and manage your treatment plan.  AI can’t consider your overall health or potential allergies.\n",
      "* **Accuracy depends on the quality of the images and the AI system:**  The accuracy of an AI diagnosis depends on how clear and well-lit the pictures are.  Different AI systems have varying levels of accuracy, so it's important to use a reliable and validated system.\n",
      "\n",
      "In short, AI can be a helpful tool in diagnosing and managing acne, making the process potentially faster and more personalized, but it's crucial to work with a dermatologist for proper care.\n",
      "\n"
     ]
    }
   ],
   "source": [
    "prompt = \"\"\"\n",
    "Create a brief explanation about how AI can help diagnose acne conditions:\n",
    "- Include 2-3 main benefits\n",
    "- Mention any limitations\n",
    "- Keep it patient-friendly\n",
    "\"\"\"\n",
    "\n",
    "response = model.generate_content(prompt)\n",
    "print(response.text)"
   ]
  },
  {
   "cell_type": "code",
   "execution_count": 8,
   "id": "125291b8",
   "metadata": {},
   "outputs": [
    {
     "name": "stdout",
     "output_type": "stream",
     "text": [
      "Artificial intelligence (AI) is rapidly transforming dermatology, offering promising new tools for acne diagnosis.  Traditional acne diagnosis relies heavily on visual examination by a dermatologist, which can be subjective and prone to error. AI-powered systems leverage computer vision and machine learning to analyze images of skin lesions, providing objective assessments and potentially improving diagnostic accuracy and efficiency. These systems can assist dermatologists in identifying acne severity, differentiating acne from other skin conditions, and even predicting treatment response, leading to more personalized and effective acne management.  This introduction explores the emerging applications of AI in this field and its potential to revolutionize acne care.\n",
      "\n"
     ]
    }
   ],
   "source": [
    "response = model.generate_content(\n",
    "    \"Write a short introduction about acne diagnosis using AI\",\n",
    "    generation_config={\n",
    "        \"temperature\": 0.7,  # Controls randomness (0.0-1.0)\n",
    "        \"max_output_tokens\": 200,  # Limits response length\n",
    "        \"top_p\": 0.95,  # Controls diversity\n",
    "        \"top_k\": 40,  # Constrains token selection\n",
    "    }\n",
    ")\n",
    "print(response.text)"
   ]
  },
  {
   "cell_type": "code",
   "execution_count": null,
   "id": "458d7599",
   "metadata": {},
   "outputs": [
    {
     "name": "stdout",
     "output_type": "stream",
     "text": [
      "Response 1: Acne presents in several forms, often overlapping.  The most common types include:\n",
      "\n",
      "* **Non-inflammatory acne:** This is the mildest form and doesn't involve inflammation or redness.  It includes:\n",
      "    * **Open comedones (blackheads):**  Pores clogged with sebum and dead skin cells, appearing as dark spots on the skin's surface. The dark color is due to oxidation, not dirt.\n",
      "    * **Closed comedones (whiteheads):** Similar to blackheads, but the pore is completely closed, appearing as small, flesh-colored bumps.\n",
      "\n",
      "* **Inflammatory acne:** This involves inflammation and redness, and can be more severe. It includes:\n",
      "    * **Papules:** Small, raised, red bumps that are tender to the touch.\n",
      "    * **Pustules:** Papules that contain pus (a white or yellowish center). These are often called \"pimples.\"\n",
      "    * **Nodules:** Large, painful, deep lumps under the skin's surface. They are often hard to the touch and can leave scarring.\n",
      "    * **Cysts:** Similar to nodules, but filled with pus and more likely to cause scarring. These are the most severe form of acne.\n",
      "\n",
      "It's important to note that a person can experience a combination of these types of acne simultaneously.  The severity of acne varies greatly from person to person.\n",
      "\n",
      "Response 2: AI, specifically machine learning (ML) and deep learning (DL), can assist in diagnosing different types of acne in several ways, though it's crucial to remember that **AI is a tool to assist, not replace, dermatologists.**\n",
      "\n",
      "Here's how AI can help:\n",
      "\n",
      "* **Image Analysis:**  AI algorithms, trained on vast datasets of acne images labeled by dermatologists, can analyze images of skin lesions.  These algorithms can learn to identify characteristic features of each acne type (e.g., size, shape, color, texture, presence of pus) and classify them with relatively high accuracy.  This can be particularly helpful for differentiating between papules, pustules, nodules, and cysts.\n",
      "\n",
      "* **Severity Assessment:** AI can quantify the severity of acne by analyzing the number and type of lesions present in an image.  This helps dermatologists objectively assess the condition and tailor treatment plans accordingly.\n",
      "\n",
      "* **Differential Diagnosis:** AI can help distinguish acne from other skin conditions that might mimic it, such as rosacea, eczema, or fungal infections. This is achieved by learning the subtle differences in visual features and patterns.\n",
      "\n",
      "* **Personalized Treatment Recommendations:**  By analyzing acne characteristics and patient data (e.g., age, skin type, medical history), AI can suggest potential treatment options, though a dermatologist's expertise is still necessary to make the final decision.\n",
      "\n",
      "* **Teledermatology:** AI-powered apps and platforms enable remote acne diagnosis and monitoring. Patients can upload images, receive initial assessments, and potentially get recommendations for over-the-counter treatments, although follow-up with a dermatologist is usually recommended.\n",
      "\n",
      "\n",
      "**Limitations:**\n",
      "\n",
      "* **Data Bias:** The accuracy of AI models depends heavily on the quality and diversity of the training data.  Bias in the data can lead to inaccurate or unfair diagnoses for certain populations.\n",
      "\n",
      "* **Interpretability:**  Some AI models, particularly deep learning models, can be \"black boxes,\" making it difficult to understand how they arrive at their conclusions.  This lack of transparency can be a concern for both patients and clinicians.\n",
      "\n",
      "* **Inability to Replace Clinical Judgment:** AI cannot replace the experience and judgment of a dermatologist, who can consider factors beyond just images, such as patient history, physical examination, and potential underlying medical conditions.  AI is a tool to enhance, not replace, human expertise.\n",
      "\n",
      "\n",
      "In summary, AI shows promise in assisting with acne diagnosis, but it's a supplementary tool and not a standalone diagnostic method.  It's crucial to seek professional medical advice from a dermatologist for proper diagnosis and treatment of acne.\n",
      "\n",
      "\n",
      "Chat History:\n",
      "Role: user\n",
      "Content: What are common types of acne?...\n",
      "\n",
      "Role: model\n",
      "Content: Acne presents in several forms, often overlapping....\n",
      "\n",
      "Role: user\n",
      "Content: How can AI help diagnose these different types?...\n",
      "\n",
      "Role: model\n",
      "Content: AI, specifically machine learning (ML) and deep le...\n",
      "\n"
     ]
    }
   ],
   "source": [
    "chat = model.start_chat(history=[])\n",
    "\n",
    "response = chat.send_message(\"What are common types of acne?\")\n",
    "print(\"Response 1:\", response.text)\n",
    "\n",
    "response = chat.send_message(\"How can AI help diagnose these different types?\")\n",
    "print(\"Response 2:\", response.text)\n",
    "\n",
    "print(\"\\nChat History:\")\n",
    "for message in chat.history:\n",
    "    print(f\"Role: {message.role}\")\n",
    "    print(f\"Content: {message.parts[0].text[:50]}...\")\n",
    "    print()"
   ]
  }
 ],
 "metadata": {
  "kernelspec": {
   "display_name": ".acne-sense-llm-venv",
   "language": "python",
   "name": "python3"
  },
  "language_info": {
   "codemirror_mode": {
    "name": "ipython",
    "version": 3
   },
   "file_extension": ".py",
   "mimetype": "text/x-python",
   "name": "python",
   "nbconvert_exporter": "python",
   "pygments_lexer": "ipython3",
   "version": "3.12.9"
  }
 },
 "nbformat": 4,
 "nbformat_minor": 5
}

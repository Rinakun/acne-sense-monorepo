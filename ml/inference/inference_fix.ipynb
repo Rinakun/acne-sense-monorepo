{
 "cells": [
  {
   "cell_type": "code",
   "execution_count": 38,
   "id": "cd23c60a",
   "metadata": {},
   "outputs": [],
   "source": [
    "yolo_dir = \"yolo1.pt\"\n",
    "keras_dir = \"model_23_may_2025.keras\""
   ]
  },
  {
   "cell_type": "code",
   "execution_count": 12,
   "id": "33062ba2",
   "metadata": {},
   "outputs": [],
   "source": [
    "from ultralytics import YOLO\n",
    "import cv2\n",
    "import numpy as np\n",
    "from tensorflow import keras\n",
    "from tensorflow.keras.utils import load_img, img_to_array\n",
    "import numpy as np\n",
    "import json\n",
    "import os"
   ]
  },
  {
   "cell_type": "code",
   "execution_count": null,
   "id": "17cf13aa",
   "metadata": {},
   "outputs": [],
   "source": [
    "\n",
    "# from google.colab.patches import cv2_imshow\n",
    "\n",
    "def enlarge_bbox(x1, y1, x2, y2, scale=1.2, img_width=640, img_height=640):\n",
    "    # Hitung center dan ukuran\n",
    "    w = x2 - x1\n",
    "    h = y2 - y1\n",
    "    cx = x1 + w / 2\n",
    "    cy = y1 + h / 2\n",
    "\n",
    "    # Perbesar\n",
    "    new_w = w * scale\n",
    "    new_h = h * scale\n",
    "\n",
    "    # Hitung koordinat baru\n",
    "    new_x1 = max(0, int(cx - new_w / 2))\n",
    "    new_y1 = max(0, int(cy - new_h / 2))\n",
    "    new_x2 = min(img_width, int(cx + new_w / 2))\n",
    "    new_y2 = min(img_height, int(cy + new_h / 2))\n",
    "\n",
    "    return new_x1, new_y1, new_x2, new_y2\n",
    "\n",
    "# Load best model\n",
    "# model_yolo = YOLO(\"best.pt\")"
   ]
  },
  {
   "cell_type": "code",
   "execution_count": 32,
   "id": "70eb3c37",
   "metadata": {},
   "outputs": [],
   "source": [
    "def detect_and_crop(img_path, model_path):\n",
    "    \n",
    "    model_yolo = YOLO(model_path)\n",
    "    results = model_yolo.predict(\n",
    "        source=img_path,\n",
    "        conf=0.4,\n",
    "        save=True,  # Jangan langsung simpan dulu\n",
    "        imgsz=640,\n",
    "        device='cpu'\n",
    "    )\n",
    "\n",
    "    # Load original image\n",
    "    img_path = img_path\n",
    "    img = cv2.imread(img_path)\n",
    "    img_height, img_width = img.shape[:2]\n",
    "\n",
    "    base_dir = \"hasil_crop\"\n",
    "\n",
    "    # Buat base_dir jika belum ada\n",
    "    os.makedirs(base_dir, exist_ok=True)\n",
    "\n",
    "    # Ambil daftar folder yang sudah ada di base_dir\n",
    "    existing_folders = [name for name in os.listdir(base_dir) if os.path.isdir(os.path.join(base_dir, name))]\n",
    "\n",
    "    # Buat nama folder baru dengan angka urutan (misalnya: 0, 1, 2, ...)\n",
    "    folder_index = len(existing_folders)\n",
    "    folder_dir = os.path.join(base_dir, str(folder_index))\n",
    "\n",
    "    # Buat folder baru\n",
    "    os.makedirs(folder_dir, exist_ok=True)\n",
    "\n",
    "    # Ambil hasil prediksi pertama\n",
    "    boxes = results[0].boxes.xyxy.cpu().numpy()  # Format: [x1, y1, x2, y2]\n",
    "    for i, box in enumerate(boxes):\n",
    "        x1, y1, x2, y2 = box[:4]\n",
    "        x1, y1, x2, y2 = enlarge_bbox(x1, y1, x2, y2, scale=1.75, img_width=img_width, img_height=img_height)\n",
    "        cv2.rectangle(img, (x1, y1), (x2, y2), (0, 255, 0), 2)\n",
    "\n",
    "        # Crop objek dan simpan\n",
    "        crop = img[y1:y2, x1:x2]\n",
    "        scale_factor = 4.5\n",
    "        resized_crop = cv2.resize(crop, None, fx=scale_factor, fy=scale_factor, interpolation=cv2.INTER_CUBIC)\n",
    "        crop_path = f'{folder_dir}/ultralytics_crop_{i}.jpg'\n",
    "        cv2.imwrite(crop_path, resized_crop)\n",
    "    return folder_dir \n",
    "# Tampilkan gambar\n",
    "# cv2.imshow(\"Detection Results\", img)\n",
    "# cv2_imshow(img)\n",
    "# cv2.waitKey(0)\n",
    "# cv2.destroyAllWindows()"
   ]
  },
  {
   "cell_type": "code",
   "execution_count": 15,
   "id": "806f7b29",
   "metadata": {},
   "outputs": [
    {
     "data": {
      "text/plain": [
       "15"
      ]
     },
     "execution_count": 15,
     "metadata": {},
     "output_type": "execute_result"
    }
   ],
   "source": [
    "with open(\"class_indices.json\", \"r\") as f:\n",
    "    class_indices = json.load(f)\n",
    "class_names = [None] * len(class_indices)\n",
    "\n",
    "for names, index in class_indices.items():\n",
    "  class_names[index] = names\n",
    "\n",
    "len(class_names)"
   ]
  },
  {
   "cell_type": "code",
   "execution_count": 26,
   "id": "f466cd4d",
   "metadata": {},
   "outputs": [],
   "source": [
    "def predict_image(img_path, model_keras_path):\n",
    "  model_keras = keras.models.load_model(model_keras_path)\n",
    "  img = load_img(img_path, target_size=(128, 128))  # sesuaikan ukuran dengan model kamu\n",
    "  img_array = img_to_array(img)\n",
    "  img_array = img_array / 255.0  # normalisasi jika model dilatih dengan input ter-normalisasi\n",
    "  img_array = np.expand_dims(img_array, axis=0)  # tambahkan batch dimension\n",
    "\n",
    "  # 3. Prediksi\n",
    "  # print(img_array.shape)\n",
    "  pred = model_keras.predict(img_array)\n",
    "  pred_index = np.argmax(pred)\n",
    "\n",
    "  # # 4. Tampilkan hasil prediksi\n",
    "  print(\"Output prediksi:\", class_names[pred_index])"
   ]
  },
  {
   "cell_type": "code",
   "execution_count": 30,
   "id": "86e40eb2",
   "metadata": {},
   "outputs": [],
   "source": [
    "def inference(image, yolo, keras):\n",
    "    count = 0\n",
    "    deteksi_dir = detect_and_crop(image, yolo)\n",
    "    for file_name in os.listdir(deteksi_dir):\n",
    "        if file_name.endswith(\".jpg\"):\n",
    "            file_path = os.path.join(deteksi_dir, file_name)\n",
    "            print(f\"Memproses {file_path}...\")\n",
    "            predict_image(file_path, keras)\n",
    "            count += 1\n",
    "    print(f\"Total gambar yang diproses: {count}\")\n",
    "    "
   ]
  },
  {
   "cell_type": "code",
   "execution_count": 39,
   "id": "f67031f9",
   "metadata": {},
   "outputs": [
    {
     "name": "stdout",
     "output_type": "stream",
     "text": [
      "\n",
      "image 1/1 c:\\dicoding\\capstone\\test_final\\test_final\\Acne-C.jpg: 448x640 5 Acnes, 68.0ms\n",
      "Speed: 2.2ms preprocess, 68.0ms inference, 3.4ms postprocess per image at shape (1, 3, 448, 640)\n",
      "Results saved to \u001b[1mruns\\detect\\predict10\u001b[0m\n",
      "Memproses hasil_crop\\9\\ultralytics_crop_0.jpg...\n",
      "1/1 [==============================] - 1s 673ms/step\n",
      "Output prediksi: Milium\n",
      "Memproses hasil_crop\\9\\ultralytics_crop_1.jpg...\n",
      "1/1 [==============================] - 1s 898ms/step\n",
      "Output prediksi: Milium\n",
      "Memproses hasil_crop\\9\\ultralytics_crop_2.jpg...\n",
      "1/1 [==============================] - 1s 609ms/step\n",
      "Output prediksi: Folliculitis\n",
      "Memproses hasil_crop\\9\\ultralytics_crop_3.jpg...\n",
      "1/1 [==============================] - 1s 603ms/step\n",
      "Output prediksi: Milium\n",
      "Memproses hasil_crop\\9\\ultralytics_crop_4.jpg...\n",
      "1/1 [==============================] - 1s 640ms/step\n",
      "Output prediksi: Acne\n",
      "Total gambar yang diproses: 5\n"
     ]
    }
   ],
   "source": [
    "inference(\"Acne-C.jpg\", yolo_dir, keras_dir)"
   ]
  },
  {
   "cell_type": "code",
   "execution_count": null,
   "id": "d5aac2fb",
   "metadata": {},
   "outputs": [],
   "source": []
  }
 ],
 "metadata": {
  "kernelspec": {
   "display_name": "keras_venv",
   "language": "python",
   "name": "python3"
  },
  "language_info": {
   "codemirror_mode": {
    "name": "ipython",
    "version": 3
   },
   "file_extension": ".py",
   "mimetype": "text/x-python",
   "name": "python",
   "nbconvert_exporter": "python",
   "pygments_lexer": "ipython3",
   "version": "3.10.13"
  }
 },
 "nbformat": 4,
 "nbformat_minor": 5
}
